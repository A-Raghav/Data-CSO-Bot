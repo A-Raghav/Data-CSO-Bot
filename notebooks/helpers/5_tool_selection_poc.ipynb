{
 "cells": [
  {
   "cell_type": "markdown",
   "id": "2bdeac1a",
   "metadata": {},
   "source": [
    "## Tool Selection - PoC\n",
    "Here, we will use the LLM to select the best tool out of a filtered set of (at most) 20 tables.\n",
    "\n",
    "Let's get started."
   ]
  },
  {
   "cell_type": "code",
   "execution_count": 1,
   "id": "206fd201",
   "metadata": {},
   "outputs": [],
   "source": [
    "from pathlib import Path\n",
    "import os\n",
    "\n",
    "root = Path().absolute().parents[1]\n",
    "os.chdir(str(root))"
   ]
  },
  {
   "cell_type": "code",
   "execution_count": 3,
   "id": "438dd3a4",
   "metadata": {},
   "outputs": [],
   "source": [
    "from src.helpers.hybrid_retrieval import HybridRetrieval"
   ]
  },
  {
   "cell_type": "code",
   "execution_count": 4,
   "id": "39a49a40",
   "metadata": {},
   "outputs": [],
   "source": [
    "retriever = HybridRetrieval(top_k_stage_1=200, top_k_stage_2=20)"
   ]
  },
  {
   "cell_type": "code",
   "execution_count": null,
   "id": "3915f563",
   "metadata": {},
   "outputs": [
    {
     "name": "stderr",
     "output_type": "stream",
     "text": [
      "WARNING: All log messages before absl::InitializeLog() is called are written to STDERR\n",
      "I0000 00:00:1755784664.165868 1316053 fork_posix.cc:71] Other threads are currently calling into gRPC, skipping fork() handlers\n",
      "                                                     \r"
     ]
    },
    {
     "data": {
      "text/html": [
       "<div>\n",
       "<style scoped>\n",
       "    .dataframe tbody tr th:only-of-type {\n",
       "        vertical-align: middle;\n",
       "    }\n",
       "\n",
       "    .dataframe tbody tr th {\n",
       "        vertical-align: top;\n",
       "    }\n",
       "\n",
       "    .dataframe thead th {\n",
       "        text-align: right;\n",
       "    }\n",
       "</style>\n",
       "<table border=\"1\" class=\"dataframe\">\n",
       "  <thead>\n",
       "    <tr style=\"text-align: right;\">\n",
       "      <th></th>\n",
       "      <th>id</th>\n",
       "      <th>stage_1_score</th>\n",
       "      <th>stage_2_score</th>\n",
       "    </tr>\n",
       "  </thead>\n",
       "  <tbody>\n",
       "    <tr>\n",
       "      <th>0</th>\n",
       "      <td>CPM13</td>\n",
       "      <td>8.789187</td>\n",
       "      <td>0.460212</td>\n",
       "    </tr>\n",
       "    <tr>\n",
       "      <th>1</th>\n",
       "      <td>PCA23</td>\n",
       "      <td>4.585402</td>\n",
       "      <td>0.328005</td>\n",
       "    </tr>\n",
       "    <tr>\n",
       "      <th>2</th>\n",
       "      <td>IAIP13</td>\n",
       "      <td>7.194671</td>\n",
       "      <td>0.396397</td>\n",
       "    </tr>\n",
       "    <tr>\n",
       "      <th>3</th>\n",
       "      <td>CPM16</td>\n",
       "      <td>7.114656</td>\n",
       "      <td>0.444113</td>\n",
       "    </tr>\n",
       "    <tr>\n",
       "      <th>4</th>\n",
       "      <td>CPM18</td>\n",
       "      <td>7.114656</td>\n",
       "      <td>0.436573</td>\n",
       "    </tr>\n",
       "    <tr>\n",
       "      <th>...</th>\n",
       "      <td>...</td>\n",
       "      <td>...</td>\n",
       "      <td>...</td>\n",
       "    </tr>\n",
       "    <tr>\n",
       "      <th>71</th>\n",
       "      <td>NSA88</td>\n",
       "      <td>4.598532</td>\n",
       "      <td>0.422409</td>\n",
       "    </tr>\n",
       "    <tr>\n",
       "      <th>72</th>\n",
       "      <td>NSA97</td>\n",
       "      <td>4.598532</td>\n",
       "      <td>0.429908</td>\n",
       "    </tr>\n",
       "    <tr>\n",
       "      <th>73</th>\n",
       "      <td>MIP26</td>\n",
       "      <td>4.596580</td>\n",
       "      <td>0.407813</td>\n",
       "    </tr>\n",
       "    <tr>\n",
       "      <th>74</th>\n",
       "      <td>MIP10</td>\n",
       "      <td>4.577620</td>\n",
       "      <td>0.408266</td>\n",
       "    </tr>\n",
       "    <tr>\n",
       "      <th>75</th>\n",
       "      <td>TRA174</td>\n",
       "      <td>4.574710</td>\n",
       "      <td>0.383123</td>\n",
       "    </tr>\n",
       "  </tbody>\n",
       "</table>\n",
       "<p>76 rows × 3 columns</p>\n",
       "</div>"
      ],
      "text/plain": [
       "        id  stage_1_score  stage_2_score\n",
       "0    CPM13       8.789187       0.460212\n",
       "1    PCA23       4.585402       0.328005\n",
       "2   IAIP13       7.194671       0.396397\n",
       "3    CPM16       7.114656       0.444113\n",
       "4    CPM18       7.114656       0.436573\n",
       "..     ...            ...            ...\n",
       "71   NSA88       4.598532       0.422409\n",
       "72   NSA97       4.598532       0.429908\n",
       "73   MIP26       4.596580       0.407813\n",
       "74   MIP10       4.577620       0.408266\n",
       "75  TRA174       4.574710       0.383123\n",
       "\n",
       "[76 rows x 3 columns]"
      ]
     },
     "execution_count": 5,
     "metadata": {},
     "output_type": "execute_result"
    }
   ],
   "source": [
    "# 4) Query\n",
    "question = \"does the fish purr like a cat?\"\n",
    "\n",
    "question = \"What's the electricity generation mix in Ireland? for renewable and non-renewable energy?\"\n",
    "# question = \"What is the share of renewable energy in Ireland?\"\n",
    "# question = \"What's the breakup between renewable and non-renewable energy production in Ireland?\"\n",
    "question = \"Ireland rural vs urban population mix\"\n",
    "# question = \"What are ireland's top exports?\"\n",
    "# question = \"What are Prodcom sales for skincare beauty and makeup products in 2023?\"\n",
    "# question = \"Give me a breakup of Ireland's share of transportation sector.\"\n",
    "# question = \"Sold productions - quantity (kg) for beauty, makeup and skincare preparations in Ireland in 2023?\"\n",
    "question = \"beauty makeup & skincare production in prodcom data for ireland in 2023\"\n",
    "# question = \"PRODCOM production quantity.\"\n",
    "# question = \"What's the mining and quarrying production in Ireland?\"\n",
    "# question = \"nano cellulose production in ireland\"\n",
    "# question = \"give me pharmaceuticals production in ireland\"\n",
    "# question = \"what are the different types of pharmaceuticals products produced in ireland\"\n",
    "\n",
    "\n",
    "response = retriever.search(query=question)\n",
    "response"
   ]
  },
  {
   "cell_type": "code",
   "execution_count": null,
   "id": "0167b03f",
   "metadata": {},
   "outputs": [],
   "source": []
  }
 ],
 "metadata": {
  "kernelspec": {
   "display_name": "python311",
   "language": "python",
   "name": "python3"
  },
  "language_info": {
   "codemirror_mode": {
    "name": "ipython",
    "version": 3
   },
   "file_extension": ".py",
   "mimetype": "text/x-python",
   "name": "python",
   "nbconvert_exporter": "python",
   "pygments_lexer": "ipython3",
   "version": "3.11.13"
  }
 },
 "nbformat": 4,
 "nbformat_minor": 5
}
