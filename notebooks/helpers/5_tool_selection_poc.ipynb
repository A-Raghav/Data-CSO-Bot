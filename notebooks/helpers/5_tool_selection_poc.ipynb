{
 "cells": [
  {
   "cell_type": "markdown",
   "id": "2bdeac1a",
   "metadata": {},
   "source": [
    "## Tool Selection - PoC\n",
    "Here, we will use the LLM to select the best tool out of a filtered set of (at most) 20 tables.\n",
    "\n",
    "Let's get started."
   ]
  },
  {
   "cell_type": "code",
   "execution_count": 1,
   "id": "206fd201",
   "metadata": {},
   "outputs": [],
   "source": [
    "from pathlib import Path\n",
    "import os\n",
    "\n",
    "root = Path().absolute().parents[1]\n",
    "os.chdir(str(root))"
   ]
  },
  {
   "cell_type": "code",
   "execution_count": 2,
   "id": "438dd3a4",
   "metadata": {},
   "outputs": [
    {
     "name": "stderr",
     "output_type": "stream",
     "text": [
      "/opt/anaconda3/envs/python311/lib/python3.11/site-packages/tqdm/auto.py:21: TqdmWarning: IProgress not found. Please update jupyter and ipywidgets. See https://ipywidgets.readthedocs.io/en/stable/user_install.html\n",
      "  from .autonotebook import tqdm as notebook_tqdm\n"
     ]
    }
   ],
   "source": [
    "from src.helpers.hybrid_retrieval import HybridRetrieval"
   ]
  },
  {
   "cell_type": "code",
   "execution_count": 3,
   "id": "39a49a40",
   "metadata": {},
   "outputs": [],
   "source": [
    "retriever = HybridRetrieval(top_k_stage_1=200, top_k_stage_2=20)"
   ]
  },
  {
   "cell_type": "code",
   "execution_count": 4,
   "id": "3915f563",
   "metadata": {},
   "outputs": [
    {
     "name": "stderr",
     "output_type": "stream",
     "text": [
      "WARNING: All log messages before absl::InitializeLog() is called are written to STDERR\n",
      "I0000 00:00:1755786910.045979 1337384 fork_posix.cc:71] Other threads are currently calling into gRPC, skipping fork() handlers\n",
      "                                                     \r"
     ]
    },
    {
     "data": {
      "text/html": [
       "<div>\n",
       "<style scoped>\n",
       "    .dataframe tbody tr th:only-of-type {\n",
       "        vertical-align: middle;\n",
       "    }\n",
       "\n",
       "    .dataframe tbody tr th {\n",
       "        vertical-align: top;\n",
       "    }\n",
       "\n",
       "    .dataframe thead th {\n",
       "        text-align: right;\n",
       "    }\n",
       "</style>\n",
       "<table border=\"1\" class=\"dataframe\">\n",
       "  <thead>\n",
       "    <tr style=\"text-align: right;\">\n",
       "      <th></th>\n",
       "      <th>id</th>\n",
       "      <th>stage_1_score</th>\n",
       "      <th>stage_2_score</th>\n",
       "    </tr>\n",
       "  </thead>\n",
       "  <tbody>\n",
       "    <tr>\n",
       "      <th>0</th>\n",
       "      <td>CPM13</td>\n",
       "      <td>8.789187</td>\n",
       "      <td>0.460212</td>\n",
       "    </tr>\n",
       "    <tr>\n",
       "      <th>1</th>\n",
       "      <td>PCA23</td>\n",
       "      <td>4.585402</td>\n",
       "      <td>0.328005</td>\n",
       "    </tr>\n",
       "    <tr>\n",
       "      <th>2</th>\n",
       "      <td>IAIP13</td>\n",
       "      <td>7.194671</td>\n",
       "      <td>0.396397</td>\n",
       "    </tr>\n",
       "    <tr>\n",
       "      <th>3</th>\n",
       "      <td>CPM16</td>\n",
       "      <td>7.114656</td>\n",
       "      <td>0.444113</td>\n",
       "    </tr>\n",
       "    <tr>\n",
       "      <th>4</th>\n",
       "      <td>CPM18</td>\n",
       "      <td>7.114656</td>\n",
       "      <td>0.436573</td>\n",
       "    </tr>\n",
       "    <tr>\n",
       "      <th>...</th>\n",
       "      <td>...</td>\n",
       "      <td>...</td>\n",
       "      <td>...</td>\n",
       "    </tr>\n",
       "    <tr>\n",
       "      <th>71</th>\n",
       "      <td>NSA88</td>\n",
       "      <td>4.598532</td>\n",
       "      <td>0.422409</td>\n",
       "    </tr>\n",
       "    <tr>\n",
       "      <th>72</th>\n",
       "      <td>NSA97</td>\n",
       "      <td>4.598532</td>\n",
       "      <td>0.429908</td>\n",
       "    </tr>\n",
       "    <tr>\n",
       "      <th>73</th>\n",
       "      <td>MIP26</td>\n",
       "      <td>4.596580</td>\n",
       "      <td>0.407813</td>\n",
       "    </tr>\n",
       "    <tr>\n",
       "      <th>74</th>\n",
       "      <td>MIP10</td>\n",
       "      <td>4.577620</td>\n",
       "      <td>0.408266</td>\n",
       "    </tr>\n",
       "    <tr>\n",
       "      <th>75</th>\n",
       "      <td>TRA174</td>\n",
       "      <td>4.574710</td>\n",
       "      <td>0.383123</td>\n",
       "    </tr>\n",
       "  </tbody>\n",
       "</table>\n",
       "<p>76 rows × 3 columns</p>\n",
       "</div>"
      ],
      "text/plain": [
       "        id  stage_1_score  stage_2_score\n",
       "0    CPM13       8.789187       0.460212\n",
       "1    PCA23       4.585402       0.328005\n",
       "2   IAIP13       7.194671       0.396397\n",
       "3    CPM16       7.114656       0.444113\n",
       "4    CPM18       7.114656       0.436573\n",
       "..     ...            ...            ...\n",
       "71   NSA88       4.598532       0.422409\n",
       "72   NSA97       4.598532       0.429908\n",
       "73   MIP26       4.596580       0.407813\n",
       "74   MIP10       4.577620       0.408266\n",
       "75  TRA174       4.574710       0.383123\n",
       "\n",
       "[76 rows x 3 columns]"
      ]
     },
     "execution_count": 4,
     "metadata": {},
     "output_type": "execute_result"
    }
   ],
   "source": [
    "# 4) Query\n",
    "question = \"does the fish purr like a cat?\"\n",
    "\n",
    "question = \"What's the electricity generation mix in Ireland? for renewable and non-renewable energy?\"\n",
    "# question = \"What is the share of renewable energy in Ireland?\"\n",
    "# question = \"What's the breakup between renewable and non-renewable energy production in Ireland?\"\n",
    "question = \"Ireland rural vs urban population mix\"\n",
    "# question = \"What are ireland's top exports?\"\n",
    "# question = \"What are Prodcom sales for skincare beauty and makeup products in 2023?\"\n",
    "# question = \"Give me a breakup of Ireland's share of transportation sector.\"\n",
    "# question = \"Sold productions - quantity (kg) for beauty, makeup and skincare preparations in Ireland in 2023?\"\n",
    "question = \"beauty makeup & skincare production in prodcom data for ireland in 2023\"\n",
    "# question = \"PRODCOM production quantity.\"\n",
    "# question = \"What's the mining and quarrying production in Ireland?\"\n",
    "# question = \"nano cellulose production in ireland\"\n",
    "# question = \"give me pharmaceuticals production in ireland\"\n",
    "# question = \"what are the different types of pharmaceuticals products produced in ireland\"\n",
    "\n",
    "\n",
    "response = retriever.search(query=question)\n",
    "response"
   ]
  },
  {
   "cell_type": "code",
   "execution_count": 5,
   "id": "0167b03f",
   "metadata": {},
   "outputs": [],
   "source": [
    "top_20_table_ids = response.sort_values(by=\"stage_2_score\", ascending=True)[:20][\"id\"].tolist()"
   ]
  },
  {
   "cell_type": "code",
   "execution_count": 6,
   "id": "aeb3887d",
   "metadata": {},
   "outputs": [
    {
     "data": {
      "text/plain": [
       "['PCA23',\n",
       " 'IPEADS15',\n",
       " 'ICA234',\n",
       " 'IPEADS02',\n",
       " 'PCA02',\n",
       " 'PCA09',\n",
       " 'IAIP14',\n",
       " 'PCA22',\n",
       " 'IPEADS10',\n",
       " 'PCA17',\n",
       " 'PCA18',\n",
       " 'PCA19',\n",
       " 'PCA15',\n",
       " 'PCA03',\n",
       " 'TRA168',\n",
       " 'TRA174',\n",
       " 'TRA172',\n",
       " 'MIP23',\n",
       " 'PCA05',\n",
       " 'TRA165']"
      ]
     },
     "execution_count": 6,
     "metadata": {},
     "output_type": "execute_result"
    }
   ],
   "source": [
    "top_20_table_ids"
   ]
  },
  {
   "cell_type": "code",
   "execution_count": 9,
   "id": "27147967",
   "metadata": {},
   "outputs": [
    {
     "data": {
      "text/plain": [
       "{'id': 'PCA23',\n",
       " 'metadata': {'id': 'PCA23',\n",
       "  'description': 'This table provides Prodcom Sales data for 2023, including sales figures in Euro Thousand and Volume for various product codes.',\n",
       "  'sample_questions': ['What were the Prodcom Sales in 2023?',\n",
       "   'What is the value of Prodcom Sales 2023 (Volume) for product code 20147320?',\n",
       "   'Show me the Euro Thousand values for Prodcom Sales 2023.',\n",
       "   'Which products had the highest Prodcom Sales in 2023?',\n",
       "   'What is the unit of measurement for Prodcom Sales 2023 (Volume)?',\n",
       "   'Can you provide data on Prodcom Sales for the year 2023?',\n",
       "   'How is the data on Prodcom Sales 2023 categorized?',\n",
       "   'Where can I find the methodology for Prodcom Sales data?',\n",
       "   'What is the meaning of the product code PCA23C01?',\n",
       "   'What is the source of this Prodcom Sales data?'],\n",
       "  'subject': 'Industry',\n",
       "  'product': 'Prodcom Statistics',\n",
       "  'table_name': 'Prodcom Sales 2023',\n",
       "  'columns': ['Year', 'Product']},\n",
       " 'page_content': 'This table provides Prodcom Sales data for 2023, including sales figures in Euro Thousand and Volume for various product codes.\\n\\nWhat were the Prodcom Sales in 2023?\\nWhat is the value of Prodcom Sales 2023 (Volume) for product code 20147320?\\nShow me the Euro Thousand values for Prodcom Sales 2023.\\nWhich products had the highest Prodcom Sales in 2023?\\nWhat is the unit of measurement for Prodcom Sales 2023 (Volume)?\\nCan you provide data on Prodcom Sales for the year 2023?\\nHow is the data on Prodcom Sales 2023 categorized?\\nWhere can I find the methodology for Prodcom Sales data?\\nWhat is the meaning of the product code PCA23C01?\\nWhat is the source of this Prodcom Sales data?',\n",
       " 'type': 'Document'}"
      ]
     },
     "execution_count": 9,
     "metadata": {},
     "output_type": "execute_result"
    }
   ],
   "source": [
    "retriever.vector_store.docstore.search(\"PCA23\").model_dump()"
   ]
  },
  {
   "cell_type": "markdown",
   "id": "a4d83f15",
   "metadata": {},
   "source": [
    "### Table-Selection PoC"
   ]
  },
  {
   "cell_type": "code",
   "execution_count": 10,
   "id": "b45475a6",
   "metadata": {},
   "outputs": [],
   "source": [
    "from langchain_google_genai import ChatGoogleGenerativeAI\n",
    "\n",
    "\n",
    "llm_low = ChatGoogleGenerativeAI(\n",
    "    model=\"gemini-2.0-flash-lite\",\n",
    "    temperature=1,\n",
    "    max_tokens=None,\n",
    "    timeout=None,\n",
    "    max_retries=2,\n",
    ")\n",
    "llm_med = ChatGoogleGenerativeAI(\n",
    "    model=\"gemini-2.5-flash\",\n",
    "    temperature=1,\n",
    "    max_tokens=None,\n",
    "    timeout=None,\n",
    "    max_retries=2,\n",
    ")\n",
    "llm_high  = ChatGoogleGenerativeAI(\n",
    "    model=\"gemini-2.5-pro\",\n",
    "    temperature=1,\n",
    "    max_tokens=None,\n",
    "    timeout=None,\n",
    "    max_retries=2,\n",
    ")"
   ]
  },
  {
   "cell_type": "code",
   "execution_count": null,
   "id": "c8d69a3b",
   "metadata": {},
   "outputs": [],
   "source": [
    "def create_context(table_ids: list) -> str:\n",
    "    context = []\n",
    "    for table_id in table_ids:\n",
    "        doc = retriever.vector_store.docstore.search(table_id)\n",
    "        sample_questions_str = \"\\n  - \".join(doc.metadata[\"sample_questions\"])\n",
    "        text_chunk_list = [\n",
    "            f\"**Table ID**: {doc.id}\",\n",
    "            f\"**Table Name (and Category)**: {doc.metadata[\"table_name\"]} ({doc.metadata[\"subject\"]}: {doc.metadata[\"product\"]})\",\n",
    "            f\"**Table Summary**: {doc.metadata[\"description\"]}\",\n",
    "            f\"**Fields**: {\", \".join(doc.metadata[\"columns\"])}\",\n",
    "            f\"**Sample Questions**:\",\n",
    "            f\"  - {sample_questions_str}\"\n",
    "        ]\n",
    "        text_chunk = \"\\n\".join(text_chunk_list)\n",
    "        context.append(text_chunk)\n",
    "    return \"\\n\\n\".join(context)"
   ]
  },
  {
   "cell_type": "code",
   "execution_count": 32,
   "id": "25347d71",
   "metadata": {},
   "outputs": [],
   "source": [
    "from pydantic import BaseModel, Field\n",
    "\n",
    "\n",
    "class TableSelectionSubclass(BaseModel):\n",
    "    table_id: str = Field(description=\"Table ID.\")\n",
    "    explanation: str = Field(description=\"Concise 1-liner explanation behind why this table is relevant.\")\n",
    "\n",
    "class TableSelection(BaseModel):\n",
    "    relevant_tables: list[TableSelectionSubclass] = Field(description=\"List of relevant tables with explanations.\")\n"
   ]
  },
  {
   "cell_type": "code",
   "execution_count": 45,
   "id": "2e5b2594",
   "metadata": {},
   "outputs": [],
   "source": [
    "from textwrap import dedent\n",
    "\n",
    "question = \"beauty and makeup production data for india\"\n",
    "\n",
    "context = create_context(top_20_table_ids)\n",
    "prompt = dedent(\n",
    "    f\"\"\"\\\n",
    "    Given the following tables context, select up to 3 of the possible relevant tables based on the question asked.\n",
    "\n",
    "    Table context:\n",
    "    {context}\n",
    "\n",
    "    question: {question}\n",
    "    \"\"\"\n",
    ")\n",
    "\n",
    "\n",
    "res = llm_med.with_structured_output(TableSelection).invoke(prompt)"
   ]
  },
  {
   "cell_type": "code",
   "execution_count": 46,
   "id": "c30c84af",
   "metadata": {},
   "outputs": [
    {
     "data": {
      "text/plain": [
       "{'relevant_tables': []}"
      ]
     },
     "execution_count": 46,
     "metadata": {},
     "output_type": "execute_result"
    }
   ],
   "source": [
    "res.model_dump()"
   ]
  },
  {
   "cell_type": "code",
   "execution_count": null,
   "id": "6d67d089",
   "metadata": {},
   "outputs": [],
   "source": []
  }
 ],
 "metadata": {
  "kernelspec": {
   "display_name": "python311",
   "language": "python",
   "name": "python3"
  },
  "language_info": {
   "codemirror_mode": {
    "name": "ipython",
    "version": 3
   },
   "file_extension": ".py",
   "mimetype": "text/x-python",
   "name": "python",
   "nbconvert_exporter": "python",
   "pygments_lexer": "ipython3",
   "version": "3.11.13"
  }
 },
 "nbformat": 4,
 "nbformat_minor": 5
}
