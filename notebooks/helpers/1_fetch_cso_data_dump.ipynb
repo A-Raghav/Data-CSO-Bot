{
 "cells": [
  {
   "cell_type": "markdown",
   "id": "10b90c5e",
   "metadata": {},
   "source": [
    "## Fetch CSO Data Dump\n",
    "Fetch the [CSO data dump](www.data.cso.ie) and store it in `artifacts/` directory. This can serve as a fallback mechanism when CSO is down / under-maintenance.\n",
    "\n",
    "Let's get started."
   ]
  },
  {
   "cell_type": "markdown",
   "id": "fe4cabea",
   "metadata": {},
   "source": [
    "### 1. Fetch All CSO-APIs URLs\n",
    "First, we collate all the URLs available for the CSO-Data."
   ]
  },
  {
   "cell_type": "code",
   "execution_count": null,
   "id": "54fb769a",
   "metadata": {},
   "outputs": [
    {
     "name": "stdout",
     "output_type": "stream",
     "text": [
      "Request was successful.\n",
      "12435 tables found in Data-CSO.\n"
     ]
    }
   ],
   "source": [
    "import json\n",
    "import requests\n",
    "\n",
    "\n",
    "start_date = \"1900-01-01\"\n",
    "collection_url = f\"https://ws.cso.ie/public/api.restful/PxStat.Data.Cube_API.ReadCollection/{start_date}/en\"\n",
    "r = requests.get(collection_url, timeout=60, verify=\"/tmp/cso_ca_bundle.pem\")\n",
    "print(r.status_code)\n",
    "\n",
    "if r.status_code == 200:\n",
    "    print(\"Request was successful.\")\n",
    "    collection_dict = r.json()\n",
    "    print(len(collection_dict['link']['item']), \"tables found in Data-CSO.\")\n",
    "else:\n",
    "    print(\"Request failed.\")\n",
    "    raise Exception(f\"Failed to fetch collection: {r.status_code} - {r.text}\")"
   ]
  },
  {
   "cell_type": "code",
   "execution_count": null,
   "id": "c175f4fb",
   "metadata": {},
   "outputs": [],
   "source": [
    "# save the collections dict as json in artifacts directory (for reference)\n",
    "with open(\"../..//artifacts/cso_bkp/collection.json\", \"w\") as f:\n",
    "    json.dump(collection_dict, f, indent=4)"
   ]
  },
  {
   "cell_type": "code",
   "execution_count": 70,
   "id": "1ae84d1d",
   "metadata": {},
   "outputs": [],
   "source": [
    "hrefs = [item['href'] for item in collection_dict['link']['item']]"
   ]
  },
  {
   "cell_type": "markdown",
   "id": "e4e44d78",
   "metadata": {},
   "source": [
    "### 2. Fetch Data-Dump from ALL Data-CSO tables\n",
    "We parallelise this operation using multithreading (since this is an I/O heavy process, we run this on a single core with 32 threads). We do not care for data-cso servers, so we perform a thundering herd and go all-in.\n"
   ]
  },
  {
   "cell_type": "code",
   "execution_count": null,
   "id": "4c8996d5",
   "metadata": {},
   "outputs": [
    {
     "name": "stderr",
     "output_type": "stream",
     "text": [
      "100%|██████████| 12435/12435 [15:56<00:00, 13.01it/s] \n"
     ]
    }
   ],
   "source": [
    "from concurrent.futures import ThreadPoolExecutor, as_completed\n",
    "from tqdm import tqdm\n",
    "import time\n",
    "\n",
    "\n",
    "hrefs = [item['href'] for item in collection_dict['link']['item']]\n",
    "\n",
    "# parallelise fetching CSO data by using multithreading in jupyter notebook, while using tqdm for progress bar\n",
    "def fetch_href_data(href: str) -> tuple:\n",
    "    \"\"\"Fetch data from the given href and return subject and product values.\"\"\"\n",
    "    r_json = requests.get(href, timeout=60, verify=\"/tmp/cso_ca_bundle.pem\").json()\n",
    "    table_id = r_json[\"extension\"][\"matrix\"]\n",
    "    timestamp = time.strftime(\"%d-%m-%Y %I:%M:%S %p\", time.localtime())\n",
    "\n",
    "    return r_json, table_id, timestamp\n",
    "\n",
    "with ThreadPoolExecutor(max_workers=32) as executor:\n",
    "    futures = {executor.submit(fetch_href_data, href): href for href in hrefs}\n",
    "    \n",
    "    cso_dump = {}\n",
    "\n",
    "    for future in tqdm(as_completed(futures), total=len(futures)):\n",
    "        r_json, table_id, timestamp = future.result()\n",
    "        cso_dump[table_id] = {\n",
    "            \"timestamp\": timestamp,\n",
    "            \"data\": r_json\n",
    "        }\n"
   ]
  },
  {
   "cell_type": "markdown",
   "id": "0448c7b2",
   "metadata": {},
   "source": [
    "### 3. Save the CSO-Data dump in SQLite DB\n",
    "We save in SQLite instead of as a JSON to save on space. Where the JSON file containing the CSO dump would take ~6.2GB space, the same data stored in SQLite takes ~285MB space. Kudos SQLite.\n",
    "\n",
    "We take the help of a custom `JSONStatArchiveDB` class to read / write the CSO data into the local archive."
   ]
  },
  {
   "cell_type": "code",
   "execution_count": 108,
   "id": "d895f95c",
   "metadata": {},
   "outputs": [],
   "source": [
    "from pathlib import Path\n",
    "import os\n",
    "\n",
    "root = Path().absolute().parents[1]\n",
    "os.chdir(str(root))\n",
    "\n",
    "from src.helpers.json_stat_archive_db import JSONStatArchiveDB"
   ]
  },
  {
   "cell_type": "code",
   "execution_count": null,
   "id": "44568264",
   "metadata": {},
   "outputs": [],
   "source": [
    "# Write the CSO data into the SQLite database\n",
    "db = JSONStatArchiveDB(compression_level=12)\n",
    "db.write(\"artifacts/cso_bkp/cso_archive/jsonstat_archive.sqlite\", cso_dump)"
   ]
  },
  {
   "cell_type": "markdown",
   "id": "c887f927",
   "metadata": {},
   "source": [
    "### 4. Example: reading a CSO-file from the SQLite DB\n",
    "Let's say we want to read the table-id `PCA23` from the SQLite DB, we run the following command:"
   ]
  },
  {
   "cell_type": "code",
   "execution_count": 113,
   "id": "d3c172a9",
   "metadata": {},
   "outputs": [],
   "source": [
    "cso_file = {}\n",
    "\n",
    "for tid, ds, ts in db.read(\"artifacts/cso_bkp/cso_archive/jsonstat_archive.sqlite\", table_id=\"PCA23\", with_labels=True):\n",
    "    cso_file = ds"
   ]
  },
  {
   "cell_type": "code",
   "execution_count": null,
   "id": "1c409a55",
   "metadata": {},
   "outputs": [
    {
     "data": {
      "text/html": [
       "<div>\n",
       "<style scoped>\n",
       "    .dataframe tbody tr th:only-of-type {\n",
       "        vertical-align: middle;\n",
       "    }\n",
       "\n",
       "    .dataframe tbody tr th {\n",
       "        vertical-align: top;\n",
       "    }\n",
       "\n",
       "    .dataframe thead th {\n",
       "        text-align: right;\n",
       "    }\n",
       "</style>\n",
       "<table border=\"1\" class=\"dataframe\">\n",
       "  <thead>\n",
       "    <tr style=\"text-align: right;\">\n",
       "      <th></th>\n",
       "      <th>Statistic</th>\n",
       "      <th>Year</th>\n",
       "      <th>Product</th>\n",
       "      <th>value</th>\n",
       "    </tr>\n",
       "  </thead>\n",
       "  <tbody>\n",
       "    <tr>\n",
       "      <th>0</th>\n",
       "      <td>Prodcom Sales 2023</td>\n",
       "      <td>2023</td>\n",
       "      <td>07101010 Iron ores and concentrates. Non-agglo...</td>\n",
       "      <td>0.0</td>\n",
       "    </tr>\n",
       "    <tr>\n",
       "      <th>1</th>\n",
       "      <td>Prodcom Sales 2023</td>\n",
       "      <td>2023</td>\n",
       "      <td>07101020 Iron ores and concentrates. Agglomera...</td>\n",
       "      <td>-99999999.0</td>\n",
       "    </tr>\n",
       "    <tr>\n",
       "      <th>2</th>\n",
       "      <td>Prodcom Sales 2023</td>\n",
       "      <td>2023</td>\n",
       "      <td>07291100 Copper ores and concentrates (kg)</td>\n",
       "      <td>0.0</td>\n",
       "    </tr>\n",
       "    <tr>\n",
       "      <th>3</th>\n",
       "      <td>Prodcom Sales 2023</td>\n",
       "      <td>2023</td>\n",
       "      <td>07291200 Nickel ores and concentrates (kg)</td>\n",
       "      <td>0.0</td>\n",
       "    </tr>\n",
       "    <tr>\n",
       "      <th>4</th>\n",
       "      <td>Prodcom Sales 2023</td>\n",
       "      <td>2023</td>\n",
       "      <td>07291300 Aluminium ores and concentrates (kg)</td>\n",
       "      <td>-99999999.0</td>\n",
       "    </tr>\n",
       "    <tr>\n",
       "      <th>...</th>\n",
       "      <td>...</td>\n",
       "      <td>...</td>\n",
       "      <td>...</td>\n",
       "      <td>...</td>\n",
       "    </tr>\n",
       "    <tr>\n",
       "      <th>7945</th>\n",
       "      <td>Prodcom Sales 2023 (Volume)</td>\n",
       "      <td>2023</td>\n",
       "      <td>38322902 Secondary raw materials of lithium (kg)</td>\n",
       "      <td>0.0</td>\n",
       "    </tr>\n",
       "    <tr>\n",
       "      <th>7946</th>\n",
       "      <td>Prodcom Sales 2023 (Volume)</td>\n",
       "      <td>2023</td>\n",
       "      <td>38322903 Secondary raw materials of rare earth...</td>\n",
       "      <td>0.0</td>\n",
       "    </tr>\n",
       "    <tr>\n",
       "      <th>7947</th>\n",
       "      <td>Prodcom Sales 2023 (Volume)</td>\n",
       "      <td>2023</td>\n",
       "      <td>38322910 Secondary raw materials of other meta...</td>\n",
       "      <td>0.0</td>\n",
       "    </tr>\n",
       "    <tr>\n",
       "      <th>7948</th>\n",
       "      <td>Prodcom Sales 2023 (Volume)</td>\n",
       "      <td>2023</td>\n",
       "      <td>38322940 Slag sands (kg)</td>\n",
       "      <td>0.0</td>\n",
       "    </tr>\n",
       "    <tr>\n",
       "      <th>7949</th>\n",
       "      <td>Prodcom Sales 2023 (Volume)</td>\n",
       "      <td>2023</td>\n",
       "      <td>38323000 Non-metal secondary raw materials (kg)</td>\n",
       "      <td>151361032.0</td>\n",
       "    </tr>\n",
       "  </tbody>\n",
       "</table>\n",
       "<p>7950 rows × 4 columns</p>\n",
       "</div>"
      ],
      "text/plain": [
       "                        Statistic  Year  \\\n",
       "0              Prodcom Sales 2023  2023   \n",
       "1              Prodcom Sales 2023  2023   \n",
       "2              Prodcom Sales 2023  2023   \n",
       "3              Prodcom Sales 2023  2023   \n",
       "4              Prodcom Sales 2023  2023   \n",
       "...                           ...   ...   \n",
       "7945  Prodcom Sales 2023 (Volume)  2023   \n",
       "7946  Prodcom Sales 2023 (Volume)  2023   \n",
       "7947  Prodcom Sales 2023 (Volume)  2023   \n",
       "7948  Prodcom Sales 2023 (Volume)  2023   \n",
       "7949  Prodcom Sales 2023 (Volume)  2023   \n",
       "\n",
       "                                                Product        value  \n",
       "0     07101010 Iron ores and concentrates. Non-agglo...          0.0  \n",
       "1     07101020 Iron ores and concentrates. Agglomera...  -99999999.0  \n",
       "2            07291100 Copper ores and concentrates (kg)          0.0  \n",
       "3            07291200 Nickel ores and concentrates (kg)          0.0  \n",
       "4         07291300 Aluminium ores and concentrates (kg)  -99999999.0  \n",
       "...                                                 ...          ...  \n",
       "7945   38322902 Secondary raw materials of lithium (kg)          0.0  \n",
       "7946  38322903 Secondary raw materials of rare earth...          0.0  \n",
       "7947  38322910 Secondary raw materials of other meta...          0.0  \n",
       "7948                           38322940 Slag sands (kg)          0.0  \n",
       "7949    38323000 Non-metal secondary raw materials (kg)  151361032.0  \n",
       "\n",
       "[7950 rows x 4 columns]"
      ]
     },
     "execution_count": 117,
     "metadata": {},
     "output_type": "execute_result"
    }
   ],
   "source": [
    "from pyjstat import pyjstat\n",
    "\n",
    "df = pyjstat.from_json_stat(cso_file)\n",
    "df[0]"
   ]
  },
  {
   "cell_type": "markdown",
   "id": "b6efa432",
   "metadata": {},
   "source": [
    "Let's say we want to read ALL the cso-files from the SQLite DB, we run the following command:"
   ]
  },
  {
   "cell_type": "code",
   "execution_count": null,
   "id": "1da7fb86",
   "metadata": {},
   "outputs": [],
   "source": [
    "cso_files = {}\n",
    "\n",
    "for tid, ds, ts in db.read(\"artifacts/cso_bkp/cso_archive/jsonstat_archive.sqlite\", table_id=\"PCA23\", with_labels=True):\n",
    "    cso_files[tid] = {\n",
    "        \"data\": ds,\n",
    "        \"timestamp\": ts,\n",
    "    }"
   ]
  },
  {
   "cell_type": "code",
   "execution_count": null,
   "id": "6f53f00e",
   "metadata": {},
   "outputs": [],
   "source": []
  }
 ],
 "metadata": {
  "kernelspec": {
   "display_name": "python311",
   "language": "python",
   "name": "python3"
  },
  "language_info": {
   "codemirror_mode": {
    "name": "ipython",
    "version": 3
   },
   "file_extension": ".py",
   "mimetype": "text/x-python",
   "name": "python",
   "nbconvert_exporter": "python",
   "pygments_lexer": "ipython3",
   "version": "3.11.13"
  }
 },
 "nbformat": 4,
 "nbformat_minor": 5
}
