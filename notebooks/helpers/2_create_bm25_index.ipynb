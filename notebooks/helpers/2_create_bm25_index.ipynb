{
 "cells": [
  {
   "cell_type": "markdown",
   "id": "cd3bf6a3",
   "metadata": {},
   "source": [
    "## Create BM25 Index\n",
    "Here we create the BM25 index. This is required for our custom Hybrid search engine, wherein it will be used as the sparse retrieval layer.\n",
    "\n",
    "#### Methodology\n",
    "Some background -\n",
    "- Relying on a single embedding of description is brittle.\n",
    "- Dense embedding search on a large corpus of documents is time consuming\n",
    "- Due to the nature of certain documents (containing thousands of rows), creating a dense-embedding of each document will mask context around certain keywords. Due to this, dense-embeddings may fail at throwing relevant documents even when there are instances of keyword match, due to the sheer size of the document, due to which the keyword matches get masked behind the dense-embeddings.\n",
    "\n",
    "To counter this, BM25 based retrieval will be used as the first layer, because it is efficient, and less RAM intensive than dense retrieval models. These will rely on exact-term matching. These are lightweight, and will allow us to reduce the search space from thousands of candidate documents to a few hundred \"possibly\" relevant documents.\n",
    "\n",
    "Having said that, here's a good read on sparse vs dense retrievals - [SPLADE for Sparse Vector Search Explained](https://www.pinecone.io/learn/splade/).\n",
    "\n",
    "Let's get started."
   ]
  },
  {
   "cell_type": "markdown",
   "id": "a10e33b2",
   "metadata": {},
   "source": [
    "#### 1. Load the CSO dump"
   ]
  },
  {
   "cell_type": "code",
   "execution_count": 10,
   "id": "12f476eb",
   "metadata": {},
   "outputs": [],
   "source": [
    "from pathlib import Path\n",
    "import os\n",
    "\n",
    "root = Path().absolute().parents[1]\n",
    "os.chdir(str(root))\n",
    "\n",
    "from src.helpers.json_stat_archive_db import JSONStatArchiveDB"
   ]
  },
  {
   "cell_type": "code",
   "execution_count": 11,
   "id": "066af5f9",
   "metadata": {},
   "outputs": [],
   "source": [
    "db = JSONStatArchiveDB(compression_level=12)\n",
    "\n",
    "cso_files = {}\n",
    "for tid, ds, ts in db.read(\"artifacts/cso_bkp/cso_archive/jsonstat_archive.sqlite\", table_id=None, with_labels=True):\n",
    "    cso_files[tid] = {\n",
    "        \"data\": ds,\n",
    "        \"timestamp\": ts,\n",
    "    }"
   ]
  },
  {
   "cell_type": "code",
   "execution_count": 12,
   "id": "b91bd9cd",
   "metadata": {},
   "outputs": [
    {
     "data": {
      "text/plain": [
       "12435"
      ]
     },
     "execution_count": 12,
     "metadata": {},
     "output_type": "execute_result"
    }
   ],
   "source": [
    "len(cso_files)"
   ]
  },
  {
   "cell_type": "markdown",
   "id": "3faf9e88",
   "metadata": {},
   "source": [
    "### 2. Create the bag-of-words for each document"
   ]
  },
  {
   "cell_type": "code",
   "execution_count": 13,
   "id": "a22aa422",
   "metadata": {},
   "outputs": [],
   "source": [
    "def get_bag_of_words(cso_file: str) -> str:\n",
    "    \"\"\"Generate a bag of words from the JSON data.\"\"\"\n",
    "    col_dist_vals_dic = {}\n",
    "\n",
    "    col_ids = cso_file['id']\n",
    "    label = cso_file['label']\n",
    "    subject = cso_file['extension']['subject']['value']\n",
    "    product = cso_file['extension']['product']['value']\n",
    "    table_id = cso_file['extension'][\"matrix\"]\n",
    "\n",
    "    for col_id in col_ids:\n",
    "        col_name = cso_file['dimension'][col_id]['label']\n",
    "        if col_id.startswith(\"TLIST\"):\n",
    "            continue\n",
    "        else:\n",
    "            col_dist_vals_dic[col_name] = list(cso_file['dimension'][col_id]['category']['label'].values())\n",
    "\n",
    "    # combine the label, subject, product and column name and distribution values into a single string\n",
    "    combined_str = f\"\"\"{label} - {subject} - {product} - {\" \".join([key for key in col_dist_vals_dic.keys()] + [\" \".join(val) for val in col_dist_vals_dic.values()])}\"\"\"\n",
    "\n",
    "    return {\"id\": table_id, \"text\": combined_str}\n",
    "\n",
    "corpus = [get_bag_of_words(item[\"data\"]) for item in cso_files.values()]"
   ]
  },
  {
   "cell_type": "markdown",
   "id": "8799c392",
   "metadata": {},
   "source": [
    "### 3. Create BM25 index and save them for future use"
   ]
  },
  {
   "cell_type": "code",
   "execution_count": null,
   "id": "ca84eb3a",
   "metadata": {},
   "outputs": [
    {
     "name": "stderr",
     "output_type": "stream",
     "text": [
      "Finding newlines for mmindex: 100%|██████████| 71.1M/71.1M [00:00<00:00, 1.53GB/s]\n"
     ]
    }
   ],
   "source": [
    "import bm25s\n",
    "import Stemmer\n",
    "\n",
    "# Tokenize texts\n",
    "stemmer = Stemmer.Stemmer(\"english\")\n",
    "texts = [d[\"text\"] for d in corpus]\n",
    "corpus_tokens = bm25s.tokenize(texts, stopwords=\"en\", stemmer=stemmer)\n",
    "\n",
    "# Index (attach corpus so save/load keeps it)\n",
    "retriever = bm25s.BM25(corpus=corpus)\n",
    "retriever.index(corpus_tokens)\n",
    "\n",
    "# Save the indices (corpus.jsonl will contain the table-ids/texts)\n",
    "retriever.save(\"artifacts/bm25\")"
   ]
  },
  {
   "cell_type": "code",
   "execution_count": null,
   "id": "9d02b26e",
   "metadata": {},
   "outputs": [],
   "source": [
    "\n"
   ]
  },
  {
   "cell_type": "code",
   "execution_count": null,
   "id": "dae059b0",
   "metadata": {},
   "outputs": [
    {
     "name": "stderr",
     "output_type": "stream",
     "text": [
      "                                                     "
     ]
    },
    {
     "name": "stdout",
     "output_type": "stream",
     "text": [
      "Rank 1 (score: 8.05): id=CD907 text=Population Aged 15 Years and Over at Work - Census 2011 - Profile 9 - What we Know - A study of Education and Skills in Ireland - Statistic Sex Highest Level of Education Completed Detailed Industrial Group Population Aged 15 Years and Over at Work Both sexes Male Female Total education ceased and not ceased Total whose full-time education has ceased No formal education Primary Lower secondary Upper secondary Technical/vocational Advanced certificate/completed apprenticeship Higher certificate Ordinary bachelor degree/professional qualification or both Honours bachelor degree/professional qualification or both Postgraduate diploma or degree Doctorate (Ph.D.) Not stated Total whose full-time education has not ceased Growing of perennial and non-perennial crops plant propagation (011,012,013) Farming  of animals mixed farming (0141, 0142, 0144 to 0150) Hunting and agricultural related activities  (016,017) Forestry and logging (02) Fishing and aquaculture (03) Horseracing activities Mining of coal and lignite (05) Extraction of crude petroleum and natural gas (06) Mining of metal ores (07) Other mining and quarrying (08) Extraction of peat (0892) Mining support service activities (09) Meat and meat products (101) Fish, crustaceans and molluscs (1020) Fruit and vegetables (103) Vegetable, animal oils and fats (104) Dairy products (105) Grain mill products, starches and starch products (106) Bakery and farinaceous products (107) Other food products (108) Prepared feeds for farm animals (1091) Beverages (11) Tobacco products (12) Textiles (13) Wearing apparel (14) Leather and related products (15) Wood and wood products, except furniture (16) Paper and paper products (17) Printing and reproduction of recorded media (18) Petroleum and chemical products (19,20) Basic pharmaceutical products and preparations (21) Rubber products (221) Plastics products (222) Glass and glass products (231) Articles of concrete, cement and plaster (236) Other non-metallic mineral products n.e.c. (2399) Basic metals (24) Fabricated metal products, except machinery and equipment (25) Electronic components and boards (261) Computers and peripheral equipment (262) Other electronic and optical products (263 to 268) Electrical equipment (27) Machinery and equipment n.e.c. (28) Motor vehicles, trailers and semi-trailers (29) Other transport equipment (30) Furniture (31) Medical and dental instruments and supplies (325) Other manufacturing n.e.c. (3299) Repair and installation of machinery and equipment (33) Electric power generation, transmission and distribution (351) Gas, steam and air conditioning supply (352, 353) Water collection, treatment and supply (360) Sewerage, waste management and remediation activities (37 to 39) Construction of buildings (41) Civil engineering (42) Demolition and site preparation (431) Electrical installation (4321) Plumbing, heat and air-conditioning installation (4322) Other construction installation (4329) Building completion and finishing (433) Other specialised construction activities n.e.c. (4399) Motor trades (45) Wholesale of food, beverages and tobacco (463) Wholesale of household goods (464) Wholesale of wood, construction materials and sanitary equipment (4673) Wholesale trade (461,462,465,466,4671,4672,4674 to 4690) Retail sale in non-specialised stores with food, beverages or tobacco predominating (4711) Retail sale of food, beverages and tobacco in specialised stores (472) Retail sale of automotive fuel in specialised stores (473) Retail sale of information and communication equipment in specialised stores (474) Retail sale of textiles in specialised stores (4751) Retail sale of hardware, paints and glass (4752) Retail sale of electrical household appliances in specialised stores (4754) Retail sale of furniture and Lighting (4759) Retail sale of cultural and recreation goods in specialised stores (476) Retail sale of clothing in specialised stores (4771) Retail sale of footwear and leather goods in specialised stores (4772) Retail trade (474,4753, 4773 to 4791) Taxi operation (4932) Other passenger land transport n.e.c. (4939) Freight transport by road and removal services (494) Transport via pipeline (4950) Transport via railways (491,492) Water transport (50) Air transport (51) Other transportation support activities (5229) Warehousing, storage and cargo handling (5210,5224) Service activities incidental to land, water and air transportation (5221 to 5223) Postal and courier activities (53) Hotels and similar accommodation (551) Short-stay accommodation (552,553) Restaurants and mobile food service activities (5610) Event catering and other food service activities (562) Bars (5630) Publishing activities (58) Picture, video and television programmes, sound recording and music publishing activities (59) Programming and broadcasting activities (60) Telecommunications (61) Computer programming, consultancy and Information service activities (62,63) Financial service activities, except insurance and pension funding (64) Insurance, reinsurance and pension funding, except compulsory social security (65) Activities auxiliary to financial services, except insurance and pension funding (661) Activities auxiliary to insurance and pension funding (662) Fund management activities (663) Real estate activities (68) Legal activities (6910) Accounting, bookkeeping and auditing activities tax consultancy (6920) Activities of head offices management consultancy activities (70) Architectural and engineering activities and related technical consultancy (711) Technical testing and analysis (7120) Scientific research and development (72) Advertising and market research (73) Other professional, scientific and technical activities (74) Veterinary activities (75) Renting and leasing activities (77) Employment activities (78) Travel agency, tour operator and other reservation service and related activities (79) Security and investigation activities (80) Services to buildings and landscape activities (81) Office administrative, office support and other business support activities (82) Defence activities (8422) Public order and safety activities (8424) Public administration compulsory social security activities (841,8421 to 8423,8425,843) Pre-primary education (8510) Primary education (8520) Secondary education (853) Higher education (854) Other education and educational support activities (855,856 ) Hospital activities (8610) General medical practice activities (8621) Dental practice activities (8623) Other human health activities (8690) Residential care and social work activities (87,88) Creative, arts and entertainment activities (900) Libraries, archives, museums and other cultural activities (910) Gambling and betting activities (920) Sports activities and amusement and recreation activities (93) Activities of membership organisations (94) Repair of computers and personal and household goods (95) Washing and (dry-)cleaning of textile and fur products (9601) Hairdressing and other beauty treatment (9602) Funeral and related activities (9603) Activities of physical well-being institutes (9604) Other personal service activities n.e.c. (9609) Activities of households as employers of domestic personnel (970) Activities of extraterritorial organisations and bodies (9900) Industry not stated Total at work Unemployed looking for first regular job Unemployed, having lost or given up previous job Total in labour force\n",
      "Rank 2 (score: 7.62): id=NIA01 text=Supply at Basic Prices - National Accounts - Supply and Use and Input Output Tables - Statistic Industries Products Supply at Basic Prices Agriculture, hunting, forestry and fishing (01 - 05) Mining and quarrying (10 - 13) Other mining and quarrying (14) Food products and beverages (15) Tobacco products (16) Textiles (17) Wearing apparel dressing and dyeing of fur (18) Leather and leather products (19) Wood and wood products (20) Pulp, paper and paper products (21) Publishing, printing and reproduction of recorded media (22) Chemicals and chemical products (24) Rubber and plastic products (25) Other non-metallic mineral products (26) Basic metals (27) Fabricated metal products, except machinery and equipment (28) Machinery and equipment n.e.c. (29) Office machinery and computers (30) Electrical machinery and apparatus n.e.c. (31) Radio, television and communication equipment and apparatus (32) Medical, precision and optical instruments, watches and clocks (33) Motor vehicles, trailers and semi-trailers (34) Other transport equipment (35) Recycling (37) Electricity, gas, steam and hot water supply (40) Collection, purification and distribution of water (41) All construction (45) Motor trades (50) Wholesale trade (51) Retail trade (52) Hotels and restaurants (55) Land transport (60) Water transport (61) Air transport (62) Supporting and auxiliary transport activities, activities of travel agencies (63) Post and telecommunications (64) Financial intermediation, except insurance and pension funding (65) Insurance and pension funding, except compulsory social security (66) Other financial intermediation (67) Real estate activities (70) Renting of machinery and equipment without operator and of personal and household goods (71) Computer and related activities (72) Research and development (73) Other business activities (74) Public administration and defence, compulsory social security (75) Education (80) Health and social work (85) Sewage and refuse disposal, sanitation and similar activities (90) Activities of membership organizations n.e.c. (91) Recreational, cultural and sporting activities (92) Other service activities (93) Activities of households as employers of domestic staff (95) Food products, beverages and tobacco (15, 16) Coke, refined petroleum products, nuclear fuel, furniture and manufacturing n.e.c. (23, 36) Total domestic Imports (c.i.f.) Trade margins Taxes on products Subsidies on products Total supply at purchasers' prices Agriculture, hunting, forestry and fishing (01 - 05) Mining and quarrying (10 - 13) Other mining and quarrying (14) Food products and beverages (15) Tobacco products (16) Textiles (17) Wearing apparel dressing and dyeing of fur (18) Leather and leather products (19) Wood and wood products (20) Pulp, paper and paper products (21) Publishing, printing and reproduction of recorded media (22) Chemicals and chemical products (24) Rubber and plastic products (25) Other non-metallic mineral products (26) Basic metals (27) Fabricated metal products, except machinery and equipment (28) Machinery and equipment n.e.c. (29) Office machinery and computers (30) Electrical machinery and apparatus n.e.c. (31) Radio, television and communication equipment and apparatus (32) Medical, precision and optical instruments, watches and clocks (33) Motor vehicles, trailers and semi-trailers (34) Other transport equipment (35) Recycling (37) Electricity, gas, steam and hot water supply (40) Collection, purification and distribution of water (41) All construction (45) Motor trades (50) Wholesale trade (51) Retail trade (52) Hotels and restaurants (55) Land transport (60) Water transport (61) Air transport (62) Supporting and auxiliary transport activities, activities of travel agencies (63) Post and telecommunications (64) Financial intermediation, except insurance and pension funding (65) Insurance and pension funding, except compulsory social security (66) Other financial intermediation (67) Real estate activities (70) Renting of machinery and equipment without operator and of personal and household goods (71) Computer and related activities (72) Research and development (73) Other business activities (74) Public administration and defence, compulsory social security (75) Education (80) Health and social work (85) Sewage and refuse disposal, sanitation and similar activities (90) Activities of membership organizations n.e.c. (91) Recreational, cultural and sporting activities (92) Other service activities (93) Activities of households as employers of domestic staff (95) Food products, beverages and tobacco (15, 16) Coke, refined petroleum products, nuclear fuel, furniture and manufacturing n.e.c. (23, 36) Total output by industry\n",
      "Rank 3 (score: 7.60): id=NIA03 text=Use Table for Imports - National Accounts - Supply and Use and Input Output Tables - Statistic Industries Products Use Table for Imports Agriculture, hunting, forestry and fishing (01 - 05) Mining and quarrying (10 - 13) Other mining and quarrying (14) Food products and beverages (15) Tobacco products (16) Textiles (17) Wearing apparel dressing and dyeing of fur (18) Leather and leather products (19) Wood and wood products (20) Pulp, paper and paper products (21) Publishing, printing and reproduction of recorded media (22) Chemicals and chemical products (24) Rubber and plastic products (25) Other non-metallic mineral products (26) Basic metals (27) Fabricated metal products, except machinery and equipment (28) Machinery and equipment n.e.c. (29) Office machinery and computers (30) Electrical machinery and apparatus n.e.c. (31) Radio, television and communication equipment and apparatus (32) Medical, precision and optical instruments, watches and clocks (33) Motor vehicles, trailers and semi-trailers (34) Other transport equipment (35) Recycling (37) Electricity, gas, steam and hot water supply (40) Collection, purification and distribution of water (41) All construction (45) Motor trades (50) Wholesale trade (51) Retail trade (52) Hotels and restaurants (55) Land transport (60) Water transport (61) Air transport (62) Supporting and auxiliary transport activities, activities of travel agencies (63) Post and telecommunications (64) Financial intermediation, except insurance and pension funding (65) Insurance and pension funding, except compulsory social security (66) Other financial intermediation (67) Real estate activities (70) Renting of machinery and equipment without operator and of personal and household goods (71) Computer and related activities (72) Research and development (73) Other business activities (74) Public administration and defence, compulsory social security (75) Education (80) Health and social work (85) Sewage and refuse disposal, sanitation and similar activities (90) Activities of membership organizations n.e.c. (91) Recreational, cultural and sporting activities (92) Other service activities (93) Activities of households as employers of domestic staff (95) Coke, refined petroleum products, nuclear fuel, furniture and manufacturing n.e.c. (23, 36) Total inter-industy Household consumption expenditure NPISH consumption expenditure Government consumption expenditure Gross fixed capital formation and valuables Changes in inventories Exports (f.o.b.) Total final uses Total uses Agriculture, hunting, forestry and fishing (01 - 05) Mining and quarrying (10 - 13) Other mining and quarrying (14) Food products and beverages (15) Tobacco products (16) Textiles (17) Wearing apparel dressing and dyeing of fur (18) Leather and leather products (19) Wood and wood products (20) Pulp, paper and paper products (21) Publishing, printing and reproduction of recorded media (22) Chemicals and chemical products (24) Rubber and plastic products (25) Other non-metallic mineral products (26) Basic metals (27) Fabricated metal products, except machinery and equipment (28) Machinery and equipment n.e.c. (29) Office machinery and computers (30) Electrical machinery and apparatus n.e.c. (31) Radio, television and communication equipment and apparatus (32) Medical, precision and optical instruments, watches and clocks (33) Motor vehicles, trailers and semi-trailers (34) Other transport equipment (35) Recycling (37) Electricity, gas, steam and hot water supply (40) Collection, purification and distribution of water (41) All construction (45) Motor trades (50) Wholesale trade (51) Retail trade (52) Hotels and restaurants (55) Land transport (60) Water transport (61) Air transport (62) Supporting and auxiliary transport activities, activities of travel agencies (63) Post and telecommunications (64) Financial intermediation, except insurance and pension funding (65) Insurance and pension funding, except compulsory social security (66) Other financial intermediation (67) Real estate activities (70) Renting of machinery and equipment without operator and of personal and household goods (71) Computer and related activities (72) Research and development (73) Other business activities (74) Public administration and defence, compulsory social security (75) Education (80) Health and social work (85) Sewage and refuse disposal, sanitation and similar activities (90) Activities of membership organizations n.e.c. (91) Recreational, cultural and sporting activities (92) Other service activities (93) Activities of households as employers of domestic staff (95) Coke, refined petroleum products, nuclear fuel, furniture and manufacturing n.e.c. (23, 36) Total uses for imports\n",
      "Rank 4 (score: 7.57): id=NIA05 text=Domestic Product Flows with Multipliers for other Inputs - National Accounts - Supply and Use and Input Output Tables - Statistic Input Product Supply Output Product Supply Domestic Product Flows with Multipliers for other Inputs Agriculture, hunting, forestry and fishing (01 - 05) Mining and quarrying (10 - 13) Other mining and quarrying (14) Food products and beverages (15) Tobacco products (16) Textiles (17) Wearing apparel dressing and dyeing of fur (18) Leather and leather products (19) Wood and wood products (20) Pulp, paper and paper products (21) Publishing, printing and reproduction of recorded media (22) Chemicals and chemical products (24) Rubber and plastic products (25) Other non-metallic mineral products (26) Basic metals (27) Fabricated metal products, except machinery and equipment (28) Machinery and equipment n.e.c. (29) Office machinery and computers (30) Electrical machinery and apparatus n.e.c. (31) Radio, television and communication equipment and apparatus (32) Medical, precision and optical instruments, watches and clocks (33) Motor vehicles, trailers and semi-trailers (34) Other transport equipment (35) Recycling (37) Electricity, gas, steam and hot water supply (40) Collection, purification and distribution of water (41) All construction (45) Motor trades (50) Wholesale trade (51) Retail trade (52) Hotels and restaurants (55) Land transport (60) Water transport (61) Air transport (62) Supporting and auxiliary transport activities, activities of travel agencies (63) Post and telecommunications (64) Financial intermediation, except insurance and pension funding (65) Insurance and pension funding, except compulsory social security (66) Other financial intermediation (67) Real estate activities (70) Renting of machinery and equipment without operator and of personal and household goods (71) Computer and related activities (72) Research and development (73) Other business activities (74) Public administration and defence, compulsory social security (75) Education (80) Health and social work (85) Sewage and refuse disposal, sanitation and similar activities (90) Activities of membership organizations n.e.c. (91) Recreational, cultural and sporting activities (92) Other service activities (93) Activities of households as employers of domestic staff (95) Coke, refined petroleum products, nuclear fuel, furniture and manufacturing n.e.c. (23, 36) Output multipliers Direct and indirect multipliers for other inputs - imports of goods and services Direct and indirect multipliers for other inputs - product taxes less subsidies Direct and indirect multipliers for other inputs - compensation of emplyees Direct and indirect multipliers for other inputs - net operating surplus Direct and indirect multipliers for other inputs - consumption of fixed capital Direct and indirect multipliers for other inputs - other taxes less subsidies on production Agriculture, hunting, forestry and fishing (01 - 05) Mining and quarrying (10 - 13) Other mining and quarrying (14) Food products and beverages (15) Tobacco products (16) Textiles (17) Wearing apparel dressing and dyeing of fur (18) Leather and leather products (19) Wood and wood products (20) Pulp, paper and paper products (21) Publishing, printing and reproduction of recorded media (22) Chemicals and chemical products (24) Rubber and plastic products (25) Other non-metallic mineral products (26) Basic metals (27) Fabricated metal products, except machinery and equipment (28) Machinery and equipment n.e.c. (29) Office machinery and computers (30) Electrical machinery and apparatus n.e.c. (31) Radio, television and communication equipment and apparatus (32) Medical, precision and optical instruments, watches and clocks (33) Motor vehicles, trailers and semi-trailers (34) Other transport equipment (35) Recycling (37) Electricity, gas, steam and hot water supply (40) Collection, purification and distribution of water (41) All construction (45) Motor trades (50) Wholesale trade (51) Retail trade (52) Hotels and restaurants (55) Land transport (60) Water transport (61) Air transport (62) Supporting and auxiliary transport activities, activities of travel agencies (63) Post and telecommunications (64) Financial intermediation, except insurance and pension funding (65) Insurance and pension funding, except compulsory social security (66) Other financial intermediation (67) Real estate activities (70) Renting of machinery and equipment without operator and of personal and household goods (71) Computer and related activities (72) Research and development (73) Other business activities (74) Public administration and defence, compulsory social security (75) Education (80) Health and social work (85) Sewage and refuse disposal, sanitation and similar activities (90) Activities of membership organizations n.e.c. (91) Recreational, cultural and sporting activities (92) Other service activities (93) Activities of households as employers of domestic staff (95) Coke, refined petroleum products, nuclear fuel, furniture and manufacturing n.e.c. (23, 36)\n",
      "Rank 5 (score: 7.56): id=NIA04 text=Symmetric Input-Output Table of Domestic Product Flows - National Accounts - Supply and Use and Input Output Tables - Statistic Input Product Supply Output Product Supply Symmetric Input-Output Table of Domestic Product Flows Agriculture, hunting, forestry and fishing (01 - 05) Mining and quarrying (10 - 13) Other mining and quarrying (14) Food products and beverages (15) Tobacco products (16) Textiles (17) Wearing apparel dressing and dyeing of fur (18) Leather and leather products (19) Wood and wood products (20) Pulp, paper and paper products (21) Publishing, printing and reproduction of recorded media (22) Chemicals and chemical products (24) Rubber and plastic products (25) Other non-metallic mineral products (26) Basic metals (27) Fabricated metal products, except machinery and equipment (28) Machinery and equipment n.e.c. (29) Office machinery and computers (30) Electrical machinery and apparatus n.e.c. (31) Radio, television and communication equipment and apparatus (32) Medical, precision and optical instruments, watches and clocks (33) Motor vehicles, trailers and semi-trailers (34) Other transport equipment (35) Recycling (37) Electricity, gas, steam and hot water supply (40) Collection, purification and distribution of water (41) All construction (45) Motor trades (50) Wholesale trade (51) Retail trade (52) Hotels and restaurants (55) Land transport (60) Water transport (61) Air transport (62) Supporting and auxiliary transport activities, activities of travel agencies (63) Post and telecommunications (64) Financial intermediation, except insurance and pension funding (65) Insurance and pension funding, except compulsory social security (66) Other financial intermediation (67) Real estate activities (70) Renting of machinery and equipment without operator and of personal and household goods (71) Computer and related activities (72) Research and development (73) Other business activities (74) Public administration and defence, compulsory social security (75) Education (80) Health and social work (85) Sewage and refuse disposal, sanitation and similar activities (90) Activities of membership organizations n.e.c. (91) Recreational, cultural and sporting activities (92) Other service activities (93) Activities of households as employers of domestic staff (95) Coke, refined petroleum products, nuclear fuel, furniture and manufacturing n.e.c. (23, 36) Compensation of employees Consumption of fixed capital Intermediate consumption Imports Product taxes less subsidies Total consumption at purchasers' prices Net operating surplus Non-product taxes less subsidies Value added Total inputs Agriculture, hunting, forestry and fishing (01 - 05) Mining and quarrying (10 - 13) Other mining and quarrying (14) Food products and beverages (15) Tobacco products (16) Textiles (17) Wearing apparel dressing and dyeing of fur (18) Leather and leather products (19) Wood and wood products (20) Pulp, paper and paper products (21) Publishing, printing and reproduction of recorded media (22) Chemicals and chemical products (24) Rubber and plastic products (25) Other non-metallic mineral products (26) Basic metals (27) Fabricated metal products, except machinery and equipment (28) Machinery and equipment n.e.c. (29) Office machinery and computers (30) Electrical machinery and apparatus n.e.c. (31) Radio, television and communication equipment and apparatus (32) Medical, precision and optical instruments, watches and clocks (33) Motor vehicles, trailers and semi-trailers (34) Other transport equipment (35) Recycling (37) Electricity, gas, steam and hot water supply (40) Collection, purification and distribution of water (41) All construction (45) Motor trades (50) Wholesale trade (51) Retail trade (52) Hotels and restaurants (55) Land transport (60) Water transport (61) Air transport (62) Supporting and auxiliary transport activities, activities of travel agencies (63) Post and telecommunications (64) Financial intermediation, except insurance and pension funding (65) Insurance and pension funding, except compulsory social security (66) Other financial intermediation (67) Real estate activities (70) Renting of machinery and equipment without operator and of personal and household goods (71) Computer and related activities (72) Research and development (73) Other business activities (74) Public administration and defence, compulsory social security (75) Education (80) Health and social work (85) Sewage and refuse disposal, sanitation and similar activities (90) Activities of membership organizations n.e.c. (91) Recreational, cultural and sporting activities (92) Other service activities (93) Activities of households as employers of domestic staff (95) Coke, refined petroleum products, nuclear fuel, furniture and manufacturing n.e.c. (23, 36) Total inter-industy Household consumption expenditure NPISH consumption expenditure Government consumption expenditure Gross fixed capital formation and valuables Changes in inventories Exports (f.o.b.) Total final uses Total uses\n",
      "Rank 6 (score: 7.56): id=NIA02 text=Use Table at Purchasers Prices - National Accounts - Supply and Use and Input Output Tables - Statistic Industries Products Use Table at Purchasers Prices Agriculture, hunting, forestry and fishing (01 - 05) Mining and quarrying (10 - 13) Other mining and quarrying (14) Food products and beverages (15) Tobacco products (16) Textiles (17) Wearing apparel dressing and dyeing of fur (18) Leather and leather products (19) Wood and wood products (20) Pulp, paper and paper products (21) Publishing, printing and reproduction of recorded media (22) Chemicals and chemical products (24) Rubber and plastic products (25) Other non-metallic mineral products (26) Basic metals (27) Fabricated metal products, except machinery and equipment (28) Machinery and equipment n.e.c. (29) Office machinery and computers (30) Electrical machinery and apparatus n.e.c. (31) Radio, television and communication equipment and apparatus (32) Medical, precision and optical instruments, watches and clocks (33) Motor vehicles, trailers and semi-trailers (34) Other transport equipment (35) Recycling (37) Electricity, gas, steam and hot water supply (40) Collection, purification and distribution of water (41) All construction (45) Motor trades (50) Wholesale trade (51) Retail trade (52) Hotels and restaurants (55) Land transport (60) Water transport (61) Air transport (62) Supporting and auxiliary transport activities, activities of travel agencies (63) Post and telecommunications (64) Financial intermediation, except insurance and pension funding (65) Insurance and pension funding, except compulsory social security (66) Other financial intermediation (67) Real estate activities (70) Renting of machinery and equipment without operator and of personal and household goods (71) Computer and related activities (72) Research and development (73) Other business activities (74) Public administration and defence, compulsory social security (75) Education (80) Health and social work (85) Sewage and refuse disposal, sanitation and similar activities (90) Activities of membership organizations n.e.c. (91) Recreational, cultural and sporting activities (92) Other service activities (93) Activities of households as employers of domestic staff (95) Food products, beverages and tobacco (15, 16) Coke, refined petroleum products, nuclear fuel, furniture and manufacturing n.e.c. (23, 36) Total inter-industy Household consumption expenditure NPISH consumption expenditure Government consumption expenditure Gross fixed capital formation and valuables Changes in inventories Exports (f.o.b.) Total final uses Total uses Agriculture, hunting, forestry and fishing (01 - 05) Mining and quarrying (10 - 13) Other mining and quarrying (14) Food products and beverages (15) Tobacco products (16) Textiles (17) Wearing apparel dressing and dyeing of fur (18) Leather and leather products (19) Wood and wood products (20) Pulp, paper and paper products (21) Publishing, printing and reproduction of recorded media (22) Chemicals and chemical products (24) Rubber and plastic products (25) Other non-metallic mineral products (26) Basic metals (27) Fabricated metal products, except machinery and equipment (28) Machinery and equipment n.e.c. (29) Office machinery and computers (30) Electrical machinery and apparatus n.e.c. (31) Radio, television and communication equipment and apparatus (32) Medical, precision and optical instruments, watches and clocks (33) Motor vehicles, trailers and semi-trailers (34) Other transport equipment (35) Recycling (37) Electricity, gas, steam and hot water supply (40) Collection, purification and distribution of water (41) All construction (45) Motor trades (50) Wholesale trade (51) Retail trade (52) Hotels and restaurants (55) Land transport (60) Water transport (61) Air transport (62) Supporting and auxiliary transport activities, activities of travel agencies (63) Post and telecommunications (64) Financial intermediation, except insurance and pension funding (65) Insurance and pension funding, except compulsory social security (66) Other financial intermediation (67) Real estate activities (70) Renting of machinery and equipment without operator and of personal and household goods (71) Computer and related activities (72) Research and development (73) Other business activities (74) Public administration and defence, compulsory social security (75) Education (80) Health and social work (85) Sewage and refuse disposal, sanitation and similar activities (90) Activities of membership organizations n.e.c. (91) Recreational, cultural and sporting activities (92) Other service activities (93) Activities of households as employers of domestic staff (95) Food products, beverages and tobacco (15, 16) Coke, refined petroleum products, nuclear fuel, furniture and manufacturing n.e.c. (23, 36) Total intermediate consumption Compensation of employees Operating surplus - net Consumption of fixed capital Other taxes on production Less other subsidies on production Gross value added at basic prices Output at basic prices\n",
      "Rank 7 (score: 7.50): id=CD914 text=Population Aged 15 Years  and Over at Work Whose Full - Time Education has Ceased - Census 2011 - Profile 9 - What we Know - A study of Education and Skills in Ireland - Statistic Sex Age at which Full Time Education Ceased Broad Industrial Group Population Aged 15 Years  and Over at Work Whose Full - Time Education has Ceased Both sexes Male Female Total persons Total whose full-time education has ceased Under 15 years 15 years 16 years 17 years 18 years 19 years 20 years 21 years 22 years 23 years 24 years 25 years and over Not stated Total whose full-time education has not ceased Agriculture, forestry and fishing (A) Mining and quarrying (B) Manufacturing (C) Electricity, gas, steam and air conditioning supply (D) Water supply; sewerage, waste management and remediation activities (E) Construction (F) Wholesale and retail trade; repair of motor vehicles and motorcycles (G) Transportation and storage (H) Accommodation and food service activities (I) Information and communication (J) Financial and insurance activities (K) Real estate activities (L) Professional, scientific and technical activities (M) Administrative and support service activities (N) Public administration and defence; compulsory social security (O) Education (P) Human health and social work activities (Q) Arts, entertainment and recreation (R) Other service activities (S) Activities of households as employers producing activities of households for own use (T) Activities of extraterritorial organisations and bodies (U) Industry not stated Total at work Unemployed looking for first regular job Unemployed, having lost or given up previous job Total in labour force\n",
      "Rank 8 (score: 7.49): id=PIA04 text=GVA Indicators - National Accounts - Productivity in Ireland - Industry Sector Statistic All NACE Economic Sector Agriculture, Forestry and Fishing (A) Mining and Quarrying (B) Manufacturing (C) Electricity, Gas, Steam and air conditioning supply (D) Water Supply, Sewerage, Waste Management  and remediation activities(E) Construction (F) Wholesale and Retail Trade (G) Transportation and Storage (H) Accommodation & Food Service Activities (I) Information and communication (J) Financial and insurance activities  (K) Real estate activities  (L) Public Administration and Defence (O) Education (P) Human Health and Social Work Activities (Q) Arts, entertainment and recreation (R) Other Service activities (S) Activities of households as employers; undifferentiated goods and services producing activities of households for own use (T) Professional, admin and support services  (M and N) Market (A to U excl L,O,P,Q) Labour productivity Multifactor productivity Labour input Capital input Nominal unit labour cost Capital intensity of labour Capital services Labour hours GVA Labour Share GVA Capital Share\n",
      "Rank 9 (score: 7.45): id=C0717 text= Population Aged 15 Years and Over at Work - Census 2006 - Volume 7 - Principal Economic Status and Industries - Statistic Sex Broad Industrial Group  Population Aged 15 Years and Over at Work Both sexes Male Female Agriculture, forestry and fishing Agriculture, hunting and related service activities Market gardening Other agricultural activities Farming (crops, animals, mixed) Forestry, logging and related service activities Fishing, operation of fish hatcheries and fish farms Mining, quarrying and turf production Mining of coal and lignite; extraction of peat Extraction and agglomeration of peat Mining and quarrying of coal and lignite Extraction of crude petroleum and natural gas Mining of uranium and thorium ores Mining of metal ores Other mining and quarrying Manufacturing industries Manufacture of food products and beverages Production, processing and preserving of meat and meat products Processing and preserving of fish and fish products Processing and preserving of fruit and vegetables Manufacture of vegetable and animal oils and fats Manufacture of dairy products Manufacture of grain mill products, starches and starch products Manufacture of prepared animal feeds Manufacture of other food products Manufacture of beverages Manufacture of tobacco products Manufacture of textiles Manufacture of clothes; dressing and dyeing of fur Tanning and dressing of leather; manufacture of luggage, handbags Manufacture of wood and of products of wood and cork, except furniture Manufacture of pulp, paper and paper products Publishing, printing and reproduction of recorded media Manufacture of coke and refined petroleum products All other manufacture of chemicals and chemical products Manufacture of chemicals and chemical products Manufacture of pharmaceuticals, medicinal chemicals and botanical products Manufacture of rubber and plastic products Manufacture of rubber products Manufacture of plastic products Manufacture of other non-metallic mineral products Manufacture of glass and glass products Manufacture of articles of concrete, plaster and cement All other manufacture of other non-metallic mineral products Manufacture of basic metals Manufacture of fabricated metal products, except machinery and equipment Manufacture of machinery and equipment n.e.c. Manufacture of office machinery and computers Manufacture of electrical machinery and apparatus n.e.c. Manufacture of radio, television and communications equipment and apparatus Manufacture of medical, precision and optical instruments, watches and clocks Manufacture of motor vehicles, trailers and semi-trailers Manufacture of other transport equipment Manufacture of furniture; manufacturing n.e.c. Manufacture of furniture Manufacturing n.e.c. Recycling Electricity, gas and water supply Electricity, gas, steam and hot water supply Production and distribution of electricity Manufacture of gas; distribution of gaseous fuels through mains Steam and hot water supply Collection, purification and distribution of water Construction Building site preparation Building of complete constructions or parts thereof; civil engineering Building installation Building completion Renting of construction or demolition equipment with operator Wholesale and retail trade Sale, maintenance and repair of motor vehicles and motor cycles Wholesale trade and commission trade, except of motor vehicles and motorcycles Retail trade, excluding motor vehicles/cycles; repair of household goods Retail sale in non-specialised stores with food, beverages or tobacco predominating Retail sale of food, beverages and tobacco in specialised stores Retail sale of textiles Retail sale of clothing Retail sale of footwear and leather goods Retail sale of furniture, lighting equipment and household articles n.e.c. Retail sale of electrical household appliances and radio and television goods Retail sale of hardware, paints and glass Retail trade n.e.c. Hotels and restaurants Hotels Other provision of short-stay accommodation Restaurants Bars Canteens and catering Transport, storage and communications Land transport; transport via pipelines Transport via railways Freight transport by road All other land transport Water transport Air transport Auxiliary transport activities; activities of travel agencies Cargo handling and storage Other supporting transport activities Activities of travel agencies and tour operators; tourist assistance activities n.e.c. Activities of other transport agencies Post and telecommunications Post and courier activities Telecommunications Banking and financial services Banking and financial services, except insurance and pension funding Insurance and pension funding Activities auxiliary to banking and financial services Activities auxiliary to banking and financial services, except insurance and pension funding Activities auxiliary to insurance and pension funding Real estate, renting and business activities Real estate activities Renting of machinery and equipment without operator and of personal and household goods Computer and related activities Research and development Other business activities Legal activities Accounting, book-keeping and auditing activities; tax consultancy Architectural and engineering activities and related technical consultancy Technical testing and analysis Advertising Labour recruitment and provision of personnel Investigation and security activities Industrial cleaning Miscellaneous business activities n.e.c Public administration and defence Defence activities Garda Síochána All other public administration Education Primary education Secondary education Higher education Adult and other education n.e.c. Health and social work Hospital activities Medical practice activities Dental practice activities Other human health activities Veterinary activities Social work activities Other community, social and personal service activities Sewage and refuse disposal, sanitation and similar activities Activities of membership organisations n.e.c. Recreational, cultural and sporting activities Motion picture and video activities Radio and television activities Other entertainment activities News agency activities Library, archives, museums and other cultural activities Sporting activities Other recreational activities Other services activities Washing and dry-cleaning of textile and fur products Hairdressing and other beauty treatment Funeral and related activities Physical well-being activities Other service activities n.e.c. Private households with employed persons Industry not stated All industries\n",
      "Rank 10 (score: 7.44): id=B0518 text=2002 Population Aged 15 Years and Over at Work - Census 2002 - Volume 5 - Principal Economic Status and Industries 2002 - Statistic Sex Detailed Industrial Group 2002 Population Aged 15 Years and Over at Work Both sexes Male Female Agriculture, forestry and fishing Agriculture, hunting and related service activities Market gardening Other agricultural activities Farming (crops, animals, mixed) Forestry, logging and related service activities Fishing, operation of fish hatcheries and fish farms Mining, quarrying and turf production Mining of coal and lignite; extraction of peat Extraction and agglomeration of peat Mining and quarrying of coal and lignite Extraction of crude petroleum and natural gas Mining of uranium and thorium ores Mining of metal ores Other mining and quarrying Manufacturing industries Manufacture of food products and beverages Production, processing and preserving of meat and meat products Processing and preserving of fish and fish products Processing and preserving of fruit and vegetables Manufacture of vegetable and animal oils and fats Manufacture of dairy products Manufacture of grain mill products, starches and starch products Manufacture of prepared animal feeds Manufacture of other food products Manufacture of beverages Manufacture of tobacco products Manufacture of textiles Manufacture of clothes; dressing and dyeing of fur Tanning and dressing of leather; manufacture of luggage, handbags Manufacture of wood and of products of wood and cork, except furniture Manufacture of pulp, paper and paper products Publishing, printing and reproduction of recorded media Manufacture of coke and refined petroleum products All other manufacture of chemicals and chemical products Manufacture of chemicals and chemical products Manufacture of pharmaceuticals, medicinal chemicals and botanical products Manufacture of rubber and plastic products Manufacture of rubber products Manufacture of plastic products Manufacture of other non-metallic mineral products Manufacture of glass and glass products Manufacture of articles of concrete, plaster and cement All other manufacture of other non-metallic mineral products Manufacture of basic metals Manufacture of fabricated metal products, except machinery and equipment Manufacture of machinery and equipment n.e.c. Manufacture of office machinery and computers Manufacture of electrical machinery and apparatus n.e.c. Manufacture of radio, television and communications equipment and apparatus Manufacture of medical, precision and optical instruments, watches and clocks Manufacture of motor vehicles, trailers and semi-trailers Manufacture of other transport equipment Manufacture of furniture; manufacturing n.e.c. Manufacture of furniture Manufacturing n.e.c. Recycling Electricity, gas and water supply Electricity, gas, steam and hot water supply Production and distribution of electricity Manufacture of gas; distribution of gaseous fuels through mains Steam and hot water supply Collection, purification and distribution of water Construction Building site preparation Building of complete constructions or parts thereof; civil engineering Building installation Building completion Renting of construction or demolition equipment with operator Wholesale and retail trade Sale, maintenance and repair of motor vehicles and motor cycles Wholesale trade and commission trade, except of motor vehicles and motorcycles Retail trade, excluding motor vehicles/cycles; repair of household goods Retail sale in non-specialised stores with food, beverages or tobacco predominating Retail sale of food, beverages and tobacco in specialised stores Retail sale of textiles Retail sale of clothing Retail sale of footwear and leather goods Retail sale of furniture, lighting equipment and household articles n.e.c. Retail sale of electrical household appliances and radio and television goods Retail sale of hardware, paints and glass Retail trade n.e.c. Hotels and restaurants Hotels Other provision of short-stay accommodation Restaurants Bars Canteens and catering Transport, storage and communications Land transport; transport via pipelines Transport via railways Freight transport by road All other land transport Water transport Air transport Auxiliary transport activities; activities of travel agencies Cargo handling and storage Other supporting transport activities Activities of travel agencies and tour operators; tourist assistance activities n.e.c. Activities of other transport agencies Post and telecommunications Post and courier activities Telecommunications Banking and financial services Banking and financial services, except insurance and pension funding Insurance and pension funding Activities auxiliary to banking and financial services Activities auxiliary to banking and financial services, except insurance and pension funding Activities auxiliary to insurance and pension funding Real estate, renting and business activities Real estate activities Renting of machinery and equipment without operator and of personal and household goods Computer and related activities Research and development Other business activities Legal activities Accounting, book-keeping and auditing activities; tax consultancy Architectural and engineering activities and related technical consultancy Technical testing and analysis Advertising Labour recruitment and provision of personnel Investigation and security activities Industrial cleaning Miscellaneous business activities n.e.c Public administration and defence Defence activities Garda Síochána All other public administration Education Primary education Secondary education Higher education Adult and other education n.e.c. Health and social work Hospital activities Medical practice activities Dental practice activities Other human health activities Veterinary activities Social work activities Other community, social and personal service activities Sewage and refuse disposal, sanitation and similar activities Activities of membership organisations n.e.c. Recreational, cultural and sporting activities Motion picture and video activities Radio and television activities Other entertainment activities News agency activities Library, archives, museums and other cultural activities Sporting activities Other recreational activities Other services activities Washing and dry-cleaning of textile and fur products Hairdressing and other beauty treatment Funeral and related activities Physical well-being activities Other service activities n.e.c. Private households with employed persons Industry not stated All industries\n"
     ]
    },
    {
     "name": "stderr",
     "output_type": "stream",
     "text": [
      "\r"
     ]
    }
   ],
   "source": [
    "import json\n",
    "\n",
    "# EXAMPLE USAGE:\n",
    "\n",
    "# 1. load corpus\n",
    "f = open(\"artifacts/bm25/corpus.jsonl\", \"r\")\n",
    "corpus_new = [json.loads(line) for line in f]\n",
    "f.close()\n",
    "\n",
    "# 2. load retriever\n",
    "new_retriever = retriever.load(\"artifacts/bm25\")\n",
    "\n",
    "\n",
    "\n",
    "# 3. ask a question, tokenize it\n",
    "question = \"What's the mining and quarrying production in Ireland?\"\n",
    "query_tokens = bm25s.tokenize(question, stemmer=stemmer)\n",
    "\n",
    "# 4. get docs + scores (note: pass corpus=corpus; no return_as)\n",
    "docs, scores = new_retriever.retrieve(query_tokens, k=10, corpus=corpus_new)\n",
    "\n",
    "for i in range(docs.shape[1]):\n",
    "    doc, score = docs[0, i], scores[0, i]\n",
    "    print(f\"Rank {i+1} (score: {score:.2f}): id={doc['id']} text={doc['text']}\")"
   ]
  },
  {
   "cell_type": "code",
   "execution_count": 40,
   "id": "e8a66858",
   "metadata": {},
   "outputs": [
    {
     "name": "stderr",
     "output_type": "stream",
     "text": [
      "                                                     \r"
     ]
    },
    {
     "data": {
      "text/plain": [
       "array([[{'id': 'CD907', 'text': 'Population Aged 15 Years and Over at Work - Census 2011 - Profile 9 - What we Know - A study of Education and Skills in Ireland - Statistic Sex Highest Level of Education Completed Detailed Industrial Group Population Aged 15 Years and Over at Work Both sexes Male Female Total education ceased and not ceased Total whose full-time education has ceased No formal education Primary Lower secondary Upper secondary Technical/vocational Advanced certificate/completed apprenticeship Higher certificate Ordinary bachelor degree/professional qualification or both Honours bachelor degree/professional qualification or both Postgraduate diploma or degree Doctorate (Ph.D.) Not stated Total whose full-time education has not ceased Growing of perennial and non-perennial crops plant propagation (011,012,013) Farming  of animals mixed farming (0141, 0142, 0144 to 0150) Hunting and agricultural related activities  (016,017) Forestry and logging (02) Fishing and aquaculture (03) Horseracing activities Mining of coal and lignite (05) Extraction of crude petroleum and natural gas (06) Mining of metal ores (07) Other mining and quarrying (08) Extraction of peat (0892) Mining support service activities (09) Meat and meat products (101) Fish, crustaceans and molluscs (1020) Fruit and vegetables (103) Vegetable, animal oils and fats (104) Dairy products (105) Grain mill products, starches and starch products (106) Bakery and farinaceous products (107) Other food products (108) Prepared feeds for farm animals (1091) Beverages (11) Tobacco products (12) Textiles (13) Wearing apparel (14) Leather and related products (15) Wood and wood products, except furniture (16) Paper and paper products (17) Printing and reproduction of recorded media (18) Petroleum and chemical products (19,20) Basic pharmaceutical products and preparations (21) Rubber products (221) Plastics products (222) Glass and glass products (231) Articles of concrete, cement and plaster (236) Other non-metallic mineral products n.e.c. (2399) Basic metals (24) Fabricated metal products, except machinery and equipment (25) Electronic components and boards (261) Computers and peripheral equipment (262) Other electronic and optical products (263 to 268) Electrical equipment (27) Machinery and equipment n.e.c. (28) Motor vehicles, trailers and semi-trailers (29) Other transport equipment (30) Furniture (31) Medical and dental instruments and supplies (325) Other manufacturing n.e.c. (3299) Repair and installation of machinery and equipment (33) Electric power generation, transmission and distribution (351) Gas, steam and air conditioning supply (352, 353) Water collection, treatment and supply (360) Sewerage, waste management and remediation activities (37 to 39) Construction of buildings (41) Civil engineering (42) Demolition and site preparation (431) Electrical installation (4321) Plumbing, heat and air-conditioning installation (4322) Other construction installation (4329) Building completion and finishing (433) Other specialised construction activities n.e.c. (4399) Motor trades (45) Wholesale of food, beverages and tobacco (463) Wholesale of household goods (464) Wholesale of wood, construction materials and sanitary equipment (4673) Wholesale trade (461,462,465,466,4671,4672,4674 to 4690) Retail sale in non-specialised stores with food, beverages or tobacco predominating (4711) Retail sale of food, beverages and tobacco in specialised stores (472) Retail sale of automotive fuel in specialised stores (473) Retail sale of information and communication equipment in specialised stores (474) Retail sale of textiles in specialised stores (4751) Retail sale of hardware, paints and glass (4752) Retail sale of electrical household appliances in specialised stores (4754) Retail sale of furniture and Lighting (4759) Retail sale of cultural and recreation goods in specialised stores (476) Retail sale of clothing in specialised stores (4771) Retail sale of footwear and leather goods in specialised stores (4772) Retail trade (474,4753, 4773 to 4791) Taxi operation (4932) Other passenger land transport n.e.c. (4939) Freight transport by road and removal services (494) Transport via pipeline (4950) Transport via railways (491,492) Water transport (50) Air transport (51) Other transportation support activities (5229) Warehousing, storage and cargo handling (5210,5224) Service activities incidental to land, water and air transportation (5221 to 5223) Postal and courier activities (53) Hotels and similar accommodation (551) Short-stay accommodation (552,553) Restaurants and mobile food service activities (5610) Event catering and other food service activities (562) Bars (5630) Publishing activities (58) Picture, video and television programmes, sound recording and music publishing activities (59) Programming and broadcasting activities (60) Telecommunications (61) Computer programming, consultancy and Information service activities (62,63) Financial service activities, except insurance and pension funding (64) Insurance, reinsurance and pension funding, except compulsory social security (65) Activities auxiliary to financial services, except insurance and pension funding (661) Activities auxiliary to insurance and pension funding (662) Fund management activities (663) Real estate activities (68) Legal activities (6910) Accounting, bookkeeping and auditing activities tax consultancy (6920) Activities of head offices management consultancy activities (70) Architectural and engineering activities and related technical consultancy (711) Technical testing and analysis (7120) Scientific research and development (72) Advertising and market research (73) Other professional, scientific and technical activities (74) Veterinary activities (75) Renting and leasing activities (77) Employment activities (78) Travel agency, tour operator and other reservation service and related activities (79) Security and investigation activities (80) Services to buildings and landscape activities (81) Office administrative, office support and other business support activities (82) Defence activities (8422) Public order and safety activities (8424) Public administration compulsory social security activities (841,8421 to 8423,8425,843) Pre-primary education (8510) Primary education (8520) Secondary education (853) Higher education (854) Other education and educational support activities (855,856 ) Hospital activities (8610) General medical practice activities (8621) Dental practice activities (8623) Other human health activities (8690) Residential care and social work activities (87,88) Creative, arts and entertainment activities (900) Libraries, archives, museums and other cultural activities (910) Gambling and betting activities (920) Sports activities and amusement and recreation activities (93) Activities of membership organisations (94) Repair of computers and personal and household goods (95) Washing and (dry-)cleaning of textile and fur products (9601) Hairdressing and other beauty treatment (9602) Funeral and related activities (9603) Activities of physical well-being institutes (9604) Other personal service activities n.e.c. (9609) Activities of households as employers of domestic personnel (970) Activities of extraterritorial organisations and bodies (9900) Industry not stated Total at work Unemployed looking for first regular job Unemployed, having lost or given up previous job Total in labour force'},\n",
       "        {'id': 'NIA01', 'text': \"Supply at Basic Prices - National Accounts - Supply and Use and Input Output Tables - Statistic Industries Products Supply at Basic Prices Agriculture, hunting, forestry and fishing (01 - 05) Mining and quarrying (10 - 13) Other mining and quarrying (14) Food products and beverages (15) Tobacco products (16) Textiles (17) Wearing apparel dressing and dyeing of fur (18) Leather and leather products (19) Wood and wood products (20) Pulp, paper and paper products (21) Publishing, printing and reproduction of recorded media (22) Chemicals and chemical products (24) Rubber and plastic products (25) Other non-metallic mineral products (26) Basic metals (27) Fabricated metal products, except machinery and equipment (28) Machinery and equipment n.e.c. (29) Office machinery and computers (30) Electrical machinery and apparatus n.e.c. (31) Radio, television and communication equipment and apparatus (32) Medical, precision and optical instruments, watches and clocks (33) Motor vehicles, trailers and semi-trailers (34) Other transport equipment (35) Recycling (37) Electricity, gas, steam and hot water supply (40) Collection, purification and distribution of water (41) All construction (45) Motor trades (50) Wholesale trade (51) Retail trade (52) Hotels and restaurants (55) Land transport (60) Water transport (61) Air transport (62) Supporting and auxiliary transport activities, activities of travel agencies (63) Post and telecommunications (64) Financial intermediation, except insurance and pension funding (65) Insurance and pension funding, except compulsory social security (66) Other financial intermediation (67) Real estate activities (70) Renting of machinery and equipment without operator and of personal and household goods (71) Computer and related activities (72) Research and development (73) Other business activities (74) Public administration and defence, compulsory social security (75) Education (80) Health and social work (85) Sewage and refuse disposal, sanitation and similar activities (90) Activities of membership organizations n.e.c. (91) Recreational, cultural and sporting activities (92) Other service activities (93) Activities of households as employers of domestic staff (95) Food products, beverages and tobacco (15, 16) Coke, refined petroleum products, nuclear fuel, furniture and manufacturing n.e.c. (23, 36) Total domestic Imports (c.i.f.) Trade margins Taxes on products Subsidies on products Total supply at purchasers' prices Agriculture, hunting, forestry and fishing (01 - 05) Mining and quarrying (10 - 13) Other mining and quarrying (14) Food products and beverages (15) Tobacco products (16) Textiles (17) Wearing apparel dressing and dyeing of fur (18) Leather and leather products (19) Wood and wood products (20) Pulp, paper and paper products (21) Publishing, printing and reproduction of recorded media (22) Chemicals and chemical products (24) Rubber and plastic products (25) Other non-metallic mineral products (26) Basic metals (27) Fabricated metal products, except machinery and equipment (28) Machinery and equipment n.e.c. (29) Office machinery and computers (30) Electrical machinery and apparatus n.e.c. (31) Radio, television and communication equipment and apparatus (32) Medical, precision and optical instruments, watches and clocks (33) Motor vehicles, trailers and semi-trailers (34) Other transport equipment (35) Recycling (37) Electricity, gas, steam and hot water supply (40) Collection, purification and distribution of water (41) All construction (45) Motor trades (50) Wholesale trade (51) Retail trade (52) Hotels and restaurants (55) Land transport (60) Water transport (61) Air transport (62) Supporting and auxiliary transport activities, activities of travel agencies (63) Post and telecommunications (64) Financial intermediation, except insurance and pension funding (65) Insurance and pension funding, except compulsory social security (66) Other financial intermediation (67) Real estate activities (70) Renting of machinery and equipment without operator and of personal and household goods (71) Computer and related activities (72) Research and development (73) Other business activities (74) Public administration and defence, compulsory social security (75) Education (80) Health and social work (85) Sewage and refuse disposal, sanitation and similar activities (90) Activities of membership organizations n.e.c. (91) Recreational, cultural and sporting activities (92) Other service activities (93) Activities of households as employers of domestic staff (95) Food products, beverages and tobacco (15, 16) Coke, refined petroleum products, nuclear fuel, furniture and manufacturing n.e.c. (23, 36) Total output by industry\"},\n",
       "        {'id': 'NIA03', 'text': 'Use Table for Imports - National Accounts - Supply and Use and Input Output Tables - Statistic Industries Products Use Table for Imports Agriculture, hunting, forestry and fishing (01 - 05) Mining and quarrying (10 - 13) Other mining and quarrying (14) Food products and beverages (15) Tobacco products (16) Textiles (17) Wearing apparel dressing and dyeing of fur (18) Leather and leather products (19) Wood and wood products (20) Pulp, paper and paper products (21) Publishing, printing and reproduction of recorded media (22) Chemicals and chemical products (24) Rubber and plastic products (25) Other non-metallic mineral products (26) Basic metals (27) Fabricated metal products, except machinery and equipment (28) Machinery and equipment n.e.c. (29) Office machinery and computers (30) Electrical machinery and apparatus n.e.c. (31) Radio, television and communication equipment and apparatus (32) Medical, precision and optical instruments, watches and clocks (33) Motor vehicles, trailers and semi-trailers (34) Other transport equipment (35) Recycling (37) Electricity, gas, steam and hot water supply (40) Collection, purification and distribution of water (41) All construction (45) Motor trades (50) Wholesale trade (51) Retail trade (52) Hotels and restaurants (55) Land transport (60) Water transport (61) Air transport (62) Supporting and auxiliary transport activities, activities of travel agencies (63) Post and telecommunications (64) Financial intermediation, except insurance and pension funding (65) Insurance and pension funding, except compulsory social security (66) Other financial intermediation (67) Real estate activities (70) Renting of machinery and equipment without operator and of personal and household goods (71) Computer and related activities (72) Research and development (73) Other business activities (74) Public administration and defence, compulsory social security (75) Education (80) Health and social work (85) Sewage and refuse disposal, sanitation and similar activities (90) Activities of membership organizations n.e.c. (91) Recreational, cultural and sporting activities (92) Other service activities (93) Activities of households as employers of domestic staff (95) Coke, refined petroleum products, nuclear fuel, furniture and manufacturing n.e.c. (23, 36) Total inter-industy Household consumption expenditure NPISH consumption expenditure Government consumption expenditure Gross fixed capital formation and valuables Changes in inventories Exports (f.o.b.) Total final uses Total uses Agriculture, hunting, forestry and fishing (01 - 05) Mining and quarrying (10 - 13) Other mining and quarrying (14) Food products and beverages (15) Tobacco products (16) Textiles (17) Wearing apparel dressing and dyeing of fur (18) Leather and leather products (19) Wood and wood products (20) Pulp, paper and paper products (21) Publishing, printing and reproduction of recorded media (22) Chemicals and chemical products (24) Rubber and plastic products (25) Other non-metallic mineral products (26) Basic metals (27) Fabricated metal products, except machinery and equipment (28) Machinery and equipment n.e.c. (29) Office machinery and computers (30) Electrical machinery and apparatus n.e.c. (31) Radio, television and communication equipment and apparatus (32) Medical, precision and optical instruments, watches and clocks (33) Motor vehicles, trailers and semi-trailers (34) Other transport equipment (35) Recycling (37) Electricity, gas, steam and hot water supply (40) Collection, purification and distribution of water (41) All construction (45) Motor trades (50) Wholesale trade (51) Retail trade (52) Hotels and restaurants (55) Land transport (60) Water transport (61) Air transport (62) Supporting and auxiliary transport activities, activities of travel agencies (63) Post and telecommunications (64) Financial intermediation, except insurance and pension funding (65) Insurance and pension funding, except compulsory social security (66) Other financial intermediation (67) Real estate activities (70) Renting of machinery and equipment without operator and of personal and household goods (71) Computer and related activities (72) Research and development (73) Other business activities (74) Public administration and defence, compulsory social security (75) Education (80) Health and social work (85) Sewage and refuse disposal, sanitation and similar activities (90) Activities of membership organizations n.e.c. (91) Recreational, cultural and sporting activities (92) Other service activities (93) Activities of households as employers of domestic staff (95) Coke, refined petroleum products, nuclear fuel, furniture and manufacturing n.e.c. (23, 36) Total uses for imports'},\n",
       "        {'id': 'NIA05', 'text': 'Domestic Product Flows with Multipliers for other Inputs - National Accounts - Supply and Use and Input Output Tables - Statistic Input Product Supply Output Product Supply Domestic Product Flows with Multipliers for other Inputs Agriculture, hunting, forestry and fishing (01 - 05) Mining and quarrying (10 - 13) Other mining and quarrying (14) Food products and beverages (15) Tobacco products (16) Textiles (17) Wearing apparel dressing and dyeing of fur (18) Leather and leather products (19) Wood and wood products (20) Pulp, paper and paper products (21) Publishing, printing and reproduction of recorded media (22) Chemicals and chemical products (24) Rubber and plastic products (25) Other non-metallic mineral products (26) Basic metals (27) Fabricated metal products, except machinery and equipment (28) Machinery and equipment n.e.c. (29) Office machinery and computers (30) Electrical machinery and apparatus n.e.c. (31) Radio, television and communication equipment and apparatus (32) Medical, precision and optical instruments, watches and clocks (33) Motor vehicles, trailers and semi-trailers (34) Other transport equipment (35) Recycling (37) Electricity, gas, steam and hot water supply (40) Collection, purification and distribution of water (41) All construction (45) Motor trades (50) Wholesale trade (51) Retail trade (52) Hotels and restaurants (55) Land transport (60) Water transport (61) Air transport (62) Supporting and auxiliary transport activities, activities of travel agencies (63) Post and telecommunications (64) Financial intermediation, except insurance and pension funding (65) Insurance and pension funding, except compulsory social security (66) Other financial intermediation (67) Real estate activities (70) Renting of machinery and equipment without operator and of personal and household goods (71) Computer and related activities (72) Research and development (73) Other business activities (74) Public administration and defence, compulsory social security (75) Education (80) Health and social work (85) Sewage and refuse disposal, sanitation and similar activities (90) Activities of membership organizations n.e.c. (91) Recreational, cultural and sporting activities (92) Other service activities (93) Activities of households as employers of domestic staff (95) Coke, refined petroleum products, nuclear fuel, furniture and manufacturing n.e.c. (23, 36) Output multipliers Direct and indirect multipliers for other inputs - imports of goods and services Direct and indirect multipliers for other inputs - product taxes less subsidies Direct and indirect multipliers for other inputs - compensation of emplyees Direct and indirect multipliers for other inputs - net operating surplus Direct and indirect multipliers for other inputs - consumption of fixed capital Direct and indirect multipliers for other inputs - other taxes less subsidies on production Agriculture, hunting, forestry and fishing (01 - 05) Mining and quarrying (10 - 13) Other mining and quarrying (14) Food products and beverages (15) Tobacco products (16) Textiles (17) Wearing apparel dressing and dyeing of fur (18) Leather and leather products (19) Wood and wood products (20) Pulp, paper and paper products (21) Publishing, printing and reproduction of recorded media (22) Chemicals and chemical products (24) Rubber and plastic products (25) Other non-metallic mineral products (26) Basic metals (27) Fabricated metal products, except machinery and equipment (28) Machinery and equipment n.e.c. (29) Office machinery and computers (30) Electrical machinery and apparatus n.e.c. (31) Radio, television and communication equipment and apparatus (32) Medical, precision and optical instruments, watches and clocks (33) Motor vehicles, trailers and semi-trailers (34) Other transport equipment (35) Recycling (37) Electricity, gas, steam and hot water supply (40) Collection, purification and distribution of water (41) All construction (45) Motor trades (50) Wholesale trade (51) Retail trade (52) Hotels and restaurants (55) Land transport (60) Water transport (61) Air transport (62) Supporting and auxiliary transport activities, activities of travel agencies (63) Post and telecommunications (64) Financial intermediation, except insurance and pension funding (65) Insurance and pension funding, except compulsory social security (66) Other financial intermediation (67) Real estate activities (70) Renting of machinery and equipment without operator and of personal and household goods (71) Computer and related activities (72) Research and development (73) Other business activities (74) Public administration and defence, compulsory social security (75) Education (80) Health and social work (85) Sewage and refuse disposal, sanitation and similar activities (90) Activities of membership organizations n.e.c. (91) Recreational, cultural and sporting activities (92) Other service activities (93) Activities of households as employers of domestic staff (95) Coke, refined petroleum products, nuclear fuel, furniture and manufacturing n.e.c. (23, 36)'},\n",
       "        {'id': 'NIA04', 'text': \"Symmetric Input-Output Table of Domestic Product Flows - National Accounts - Supply and Use and Input Output Tables - Statistic Input Product Supply Output Product Supply Symmetric Input-Output Table of Domestic Product Flows Agriculture, hunting, forestry and fishing (01 - 05) Mining and quarrying (10 - 13) Other mining and quarrying (14) Food products and beverages (15) Tobacco products (16) Textiles (17) Wearing apparel dressing and dyeing of fur (18) Leather and leather products (19) Wood and wood products (20) Pulp, paper and paper products (21) Publishing, printing and reproduction of recorded media (22) Chemicals and chemical products (24) Rubber and plastic products (25) Other non-metallic mineral products (26) Basic metals (27) Fabricated metal products, except machinery and equipment (28) Machinery and equipment n.e.c. (29) Office machinery and computers (30) Electrical machinery and apparatus n.e.c. (31) Radio, television and communication equipment and apparatus (32) Medical, precision and optical instruments, watches and clocks (33) Motor vehicles, trailers and semi-trailers (34) Other transport equipment (35) Recycling (37) Electricity, gas, steam and hot water supply (40) Collection, purification and distribution of water (41) All construction (45) Motor trades (50) Wholesale trade (51) Retail trade (52) Hotels and restaurants (55) Land transport (60) Water transport (61) Air transport (62) Supporting and auxiliary transport activities, activities of travel agencies (63) Post and telecommunications (64) Financial intermediation, except insurance and pension funding (65) Insurance and pension funding, except compulsory social security (66) Other financial intermediation (67) Real estate activities (70) Renting of machinery and equipment without operator and of personal and household goods (71) Computer and related activities (72) Research and development (73) Other business activities (74) Public administration and defence, compulsory social security (75) Education (80) Health and social work (85) Sewage and refuse disposal, sanitation and similar activities (90) Activities of membership organizations n.e.c. (91) Recreational, cultural and sporting activities (92) Other service activities (93) Activities of households as employers of domestic staff (95) Coke, refined petroleum products, nuclear fuel, furniture and manufacturing n.e.c. (23, 36) Compensation of employees Consumption of fixed capital Intermediate consumption Imports Product taxes less subsidies Total consumption at purchasers' prices Net operating surplus Non-product taxes less subsidies Value added Total inputs Agriculture, hunting, forestry and fishing (01 - 05) Mining and quarrying (10 - 13) Other mining and quarrying (14) Food products and beverages (15) Tobacco products (16) Textiles (17) Wearing apparel dressing and dyeing of fur (18) Leather and leather products (19) Wood and wood products (20) Pulp, paper and paper products (21) Publishing, printing and reproduction of recorded media (22) Chemicals and chemical products (24) Rubber and plastic products (25) Other non-metallic mineral products (26) Basic metals (27) Fabricated metal products, except machinery and equipment (28) Machinery and equipment n.e.c. (29) Office machinery and computers (30) Electrical machinery and apparatus n.e.c. (31) Radio, television and communication equipment and apparatus (32) Medical, precision and optical instruments, watches and clocks (33) Motor vehicles, trailers and semi-trailers (34) Other transport equipment (35) Recycling (37) Electricity, gas, steam and hot water supply (40) Collection, purification and distribution of water (41) All construction (45) Motor trades (50) Wholesale trade (51) Retail trade (52) Hotels and restaurants (55) Land transport (60) Water transport (61) Air transport (62) Supporting and auxiliary transport activities, activities of travel agencies (63) Post and telecommunications (64) Financial intermediation, except insurance and pension funding (65) Insurance and pension funding, except compulsory social security (66) Other financial intermediation (67) Real estate activities (70) Renting of machinery and equipment without operator and of personal and household goods (71) Computer and related activities (72) Research and development (73) Other business activities (74) Public administration and defence, compulsory social security (75) Education (80) Health and social work (85) Sewage and refuse disposal, sanitation and similar activities (90) Activities of membership organizations n.e.c. (91) Recreational, cultural and sporting activities (92) Other service activities (93) Activities of households as employers of domestic staff (95) Coke, refined petroleum products, nuclear fuel, furniture and manufacturing n.e.c. (23, 36) Total inter-industy Household consumption expenditure NPISH consumption expenditure Government consumption expenditure Gross fixed capital formation and valuables Changes in inventories Exports (f.o.b.) Total final uses Total uses\"},\n",
       "        {'id': 'NIA02', 'text': 'Use Table at Purchasers Prices - National Accounts - Supply and Use and Input Output Tables - Statistic Industries Products Use Table at Purchasers Prices Agriculture, hunting, forestry and fishing (01 - 05) Mining and quarrying (10 - 13) Other mining and quarrying (14) Food products and beverages (15) Tobacco products (16) Textiles (17) Wearing apparel dressing and dyeing of fur (18) Leather and leather products (19) Wood and wood products (20) Pulp, paper and paper products (21) Publishing, printing and reproduction of recorded media (22) Chemicals and chemical products (24) Rubber and plastic products (25) Other non-metallic mineral products (26) Basic metals (27) Fabricated metal products, except machinery and equipment (28) Machinery and equipment n.e.c. (29) Office machinery and computers (30) Electrical machinery and apparatus n.e.c. (31) Radio, television and communication equipment and apparatus (32) Medical, precision and optical instruments, watches and clocks (33) Motor vehicles, trailers and semi-trailers (34) Other transport equipment (35) Recycling (37) Electricity, gas, steam and hot water supply (40) Collection, purification and distribution of water (41) All construction (45) Motor trades (50) Wholesale trade (51) Retail trade (52) Hotels and restaurants (55) Land transport (60) Water transport (61) Air transport (62) Supporting and auxiliary transport activities, activities of travel agencies (63) Post and telecommunications (64) Financial intermediation, except insurance and pension funding (65) Insurance and pension funding, except compulsory social security (66) Other financial intermediation (67) Real estate activities (70) Renting of machinery and equipment without operator and of personal and household goods (71) Computer and related activities (72) Research and development (73) Other business activities (74) Public administration and defence, compulsory social security (75) Education (80) Health and social work (85) Sewage and refuse disposal, sanitation and similar activities (90) Activities of membership organizations n.e.c. (91) Recreational, cultural and sporting activities (92) Other service activities (93) Activities of households as employers of domestic staff (95) Food products, beverages and tobacco (15, 16) Coke, refined petroleum products, nuclear fuel, furniture and manufacturing n.e.c. (23, 36) Total inter-industy Household consumption expenditure NPISH consumption expenditure Government consumption expenditure Gross fixed capital formation and valuables Changes in inventories Exports (f.o.b.) Total final uses Total uses Agriculture, hunting, forestry and fishing (01 - 05) Mining and quarrying (10 - 13) Other mining and quarrying (14) Food products and beverages (15) Tobacco products (16) Textiles (17) Wearing apparel dressing and dyeing of fur (18) Leather and leather products (19) Wood and wood products (20) Pulp, paper and paper products (21) Publishing, printing and reproduction of recorded media (22) Chemicals and chemical products (24) Rubber and plastic products (25) Other non-metallic mineral products (26) Basic metals (27) Fabricated metal products, except machinery and equipment (28) Machinery and equipment n.e.c. (29) Office machinery and computers (30) Electrical machinery and apparatus n.e.c. (31) Radio, television and communication equipment and apparatus (32) Medical, precision and optical instruments, watches and clocks (33) Motor vehicles, trailers and semi-trailers (34) Other transport equipment (35) Recycling (37) Electricity, gas, steam and hot water supply (40) Collection, purification and distribution of water (41) All construction (45) Motor trades (50) Wholesale trade (51) Retail trade (52) Hotels and restaurants (55) Land transport (60) Water transport (61) Air transport (62) Supporting and auxiliary transport activities, activities of travel agencies (63) Post and telecommunications (64) Financial intermediation, except insurance and pension funding (65) Insurance and pension funding, except compulsory social security (66) Other financial intermediation (67) Real estate activities (70) Renting of machinery and equipment without operator and of personal and household goods (71) Computer and related activities (72) Research and development (73) Other business activities (74) Public administration and defence, compulsory social security (75) Education (80) Health and social work (85) Sewage and refuse disposal, sanitation and similar activities (90) Activities of membership organizations n.e.c. (91) Recreational, cultural and sporting activities (92) Other service activities (93) Activities of households as employers of domestic staff (95) Food products, beverages and tobacco (15, 16) Coke, refined petroleum products, nuclear fuel, furniture and manufacturing n.e.c. (23, 36) Total intermediate consumption Compensation of employees Operating surplus - net Consumption of fixed capital Other taxes on production Less other subsidies on production Gross value added at basic prices Output at basic prices'},\n",
       "        {'id': 'CD914', 'text': 'Population Aged 15 Years  and Over at Work Whose Full - Time Education has Ceased - Census 2011 - Profile 9 - What we Know - A study of Education and Skills in Ireland - Statistic Sex Age at which Full Time Education Ceased Broad Industrial Group Population Aged 15 Years  and Over at Work Whose Full - Time Education has Ceased Both sexes Male Female Total persons Total whose full-time education has ceased Under 15 years 15 years 16 years 17 years 18 years 19 years 20 years 21 years 22 years 23 years 24 years 25 years and over Not stated Total whose full-time education has not ceased Agriculture, forestry and fishing (A) Mining and quarrying (B) Manufacturing (C) Electricity, gas, steam and air conditioning supply (D) Water supply; sewerage, waste management and remediation activities (E) Construction (F) Wholesale and retail trade; repair of motor vehicles and motorcycles (G) Transportation and storage (H) Accommodation and food service activities (I) Information and communication (J) Financial and insurance activities (K) Real estate activities (L) Professional, scientific and technical activities (M) Administrative and support service activities (N) Public administration and defence; compulsory social security (O) Education (P) Human health and social work activities (Q) Arts, entertainment and recreation (R) Other service activities (S) Activities of households as employers producing activities of households for own use (T) Activities of extraterritorial organisations and bodies (U) Industry not stated Total at work Unemployed looking for first regular job Unemployed, having lost or given up previous job Total in labour force'},\n",
       "        {'id': 'PIA04', 'text': 'GVA Indicators - National Accounts - Productivity in Ireland - Industry Sector Statistic All NACE Economic Sector Agriculture, Forestry and Fishing (A) Mining and Quarrying (B) Manufacturing (C) Electricity, Gas, Steam and air conditioning supply (D) Water Supply, Sewerage, Waste Management  and remediation activities(E) Construction (F) Wholesale and Retail Trade (G) Transportation and Storage (H) Accommodation & Food Service Activities (I) Information and communication (J) Financial and insurance activities  (K) Real estate activities  (L) Public Administration and Defence (O) Education (P) Human Health and Social Work Activities (Q) Arts, entertainment and recreation (R) Other Service activities (S) Activities of households as employers; undifferentiated goods and services producing activities of households for own use (T) Professional, admin and support services  (M and N) Market (A to U excl L,O,P,Q) Labour productivity Multifactor productivity Labour input Capital input Nominal unit labour cost Capital intensity of labour Capital services Labour hours GVA Labour Share GVA Capital Share'},\n",
       "        {'id': 'C0717', 'text': ' Population Aged 15 Years and Over at Work - Census 2006 - Volume 7 - Principal Economic Status and Industries - Statistic Sex Broad Industrial Group  Population Aged 15 Years and Over at Work Both sexes Male Female Agriculture, forestry and fishing Agriculture, hunting and related service activities Market gardening Other agricultural activities Farming (crops, animals, mixed) Forestry, logging and related service activities Fishing, operation of fish hatcheries and fish farms Mining, quarrying and turf production Mining of coal and lignite; extraction of peat Extraction and agglomeration of peat Mining and quarrying of coal and lignite Extraction of crude petroleum and natural gas Mining of uranium and thorium ores Mining of metal ores Other mining and quarrying Manufacturing industries Manufacture of food products and beverages Production, processing and preserving of meat and meat products Processing and preserving of fish and fish products Processing and preserving of fruit and vegetables Manufacture of vegetable and animal oils and fats Manufacture of dairy products Manufacture of grain mill products, starches and starch products Manufacture of prepared animal feeds Manufacture of other food products Manufacture of beverages Manufacture of tobacco products Manufacture of textiles Manufacture of clothes; dressing and dyeing of fur Tanning and dressing of leather; manufacture of luggage, handbags Manufacture of wood and of products of wood and cork, except furniture Manufacture of pulp, paper and paper products Publishing, printing and reproduction of recorded media Manufacture of coke and refined petroleum products All other manufacture of chemicals and chemical products Manufacture of chemicals and chemical products Manufacture of pharmaceuticals, medicinal chemicals and botanical products Manufacture of rubber and plastic products Manufacture of rubber products Manufacture of plastic products Manufacture of other non-metallic mineral products Manufacture of glass and glass products Manufacture of articles of concrete, plaster and cement All other manufacture of other non-metallic mineral products Manufacture of basic metals Manufacture of fabricated metal products, except machinery and equipment Manufacture of machinery and equipment n.e.c. Manufacture of office machinery and computers Manufacture of electrical machinery and apparatus n.e.c. Manufacture of radio, television and communications equipment and apparatus Manufacture of medical, precision and optical instruments, watches and clocks Manufacture of motor vehicles, trailers and semi-trailers Manufacture of other transport equipment Manufacture of furniture; manufacturing n.e.c. Manufacture of furniture Manufacturing n.e.c. Recycling Electricity, gas and water supply Electricity, gas, steam and hot water supply Production and distribution of electricity Manufacture of gas; distribution of gaseous fuels through mains Steam and hot water supply Collection, purification and distribution of water Construction Building site preparation Building of complete constructions or parts thereof; civil engineering Building installation Building completion Renting of construction or demolition equipment with operator Wholesale and retail trade Sale, maintenance and repair of motor vehicles and motor cycles Wholesale trade and commission trade, except of motor vehicles and motorcycles Retail trade, excluding motor vehicles/cycles; repair of household goods Retail sale in non-specialised stores with food, beverages or tobacco predominating Retail sale of food, beverages and tobacco in specialised stores Retail sale of textiles Retail sale of clothing Retail sale of footwear and leather goods Retail sale of furniture, lighting equipment and household articles n.e.c. Retail sale of electrical household appliances and radio and television goods Retail sale of hardware, paints and glass Retail trade n.e.c. Hotels and restaurants Hotels Other provision of short-stay accommodation Restaurants Bars Canteens and catering Transport, storage and communications Land transport; transport via pipelines Transport via railways Freight transport by road All other land transport Water transport Air transport Auxiliary transport activities; activities of travel agencies Cargo handling and storage Other supporting transport activities Activities of travel agencies and tour operators; tourist assistance activities n.e.c. Activities of other transport agencies Post and telecommunications Post and courier activities Telecommunications Banking and financial services Banking and financial services, except insurance and pension funding Insurance and pension funding Activities auxiliary to banking and financial services Activities auxiliary to banking and financial services, except insurance and pension funding Activities auxiliary to insurance and pension funding Real estate, renting and business activities Real estate activities Renting of machinery and equipment without operator and of personal and household goods Computer and related activities Research and development Other business activities Legal activities Accounting, book-keeping and auditing activities; tax consultancy Architectural and engineering activities and related technical consultancy Technical testing and analysis Advertising Labour recruitment and provision of personnel Investigation and security activities Industrial cleaning Miscellaneous business activities n.e.c Public administration and defence Defence activities Garda Síochána All other public administration Education Primary education Secondary education Higher education Adult and other education n.e.c. Health and social work Hospital activities Medical practice activities Dental practice activities Other human health activities Veterinary activities Social work activities Other community, social and personal service activities Sewage and refuse disposal, sanitation and similar activities Activities of membership organisations n.e.c. Recreational, cultural and sporting activities Motion picture and video activities Radio and television activities Other entertainment activities News agency activities Library, archives, museums and other cultural activities Sporting activities Other recreational activities Other services activities Washing and dry-cleaning of textile and fur products Hairdressing and other beauty treatment Funeral and related activities Physical well-being activities Other service activities n.e.c. Private households with employed persons Industry not stated All industries'},\n",
       "        {'id': 'B0518', 'text': '2002 Population Aged 15 Years and Over at Work - Census 2002 - Volume 5 - Principal Economic Status and Industries 2002 - Statistic Sex Detailed Industrial Group 2002 Population Aged 15 Years and Over at Work Both sexes Male Female Agriculture, forestry and fishing Agriculture, hunting and related service activities Market gardening Other agricultural activities Farming (crops, animals, mixed) Forestry, logging and related service activities Fishing, operation of fish hatcheries and fish farms Mining, quarrying and turf production Mining of coal and lignite; extraction of peat Extraction and agglomeration of peat Mining and quarrying of coal and lignite Extraction of crude petroleum and natural gas Mining of uranium and thorium ores Mining of metal ores Other mining and quarrying Manufacturing industries Manufacture of food products and beverages Production, processing and preserving of meat and meat products Processing and preserving of fish and fish products Processing and preserving of fruit and vegetables Manufacture of vegetable and animal oils and fats Manufacture of dairy products Manufacture of grain mill products, starches and starch products Manufacture of prepared animal feeds Manufacture of other food products Manufacture of beverages Manufacture of tobacco products Manufacture of textiles Manufacture of clothes; dressing and dyeing of fur Tanning and dressing of leather; manufacture of luggage, handbags Manufacture of wood and of products of wood and cork, except furniture Manufacture of pulp, paper and paper products Publishing, printing and reproduction of recorded media Manufacture of coke and refined petroleum products All other manufacture of chemicals and chemical products Manufacture of chemicals and chemical products Manufacture of pharmaceuticals, medicinal chemicals and botanical products Manufacture of rubber and plastic products Manufacture of rubber products Manufacture of plastic products Manufacture of other non-metallic mineral products Manufacture of glass and glass products Manufacture of articles of concrete, plaster and cement All other manufacture of other non-metallic mineral products Manufacture of basic metals Manufacture of fabricated metal products, except machinery and equipment Manufacture of machinery and equipment n.e.c. Manufacture of office machinery and computers Manufacture of electrical machinery and apparatus n.e.c. Manufacture of radio, television and communications equipment and apparatus Manufacture of medical, precision and optical instruments, watches and clocks Manufacture of motor vehicles, trailers and semi-trailers Manufacture of other transport equipment Manufacture of furniture; manufacturing n.e.c. Manufacture of furniture Manufacturing n.e.c. Recycling Electricity, gas and water supply Electricity, gas, steam and hot water supply Production and distribution of electricity Manufacture of gas; distribution of gaseous fuels through mains Steam and hot water supply Collection, purification and distribution of water Construction Building site preparation Building of complete constructions or parts thereof; civil engineering Building installation Building completion Renting of construction or demolition equipment with operator Wholesale and retail trade Sale, maintenance and repair of motor vehicles and motor cycles Wholesale trade and commission trade, except of motor vehicles and motorcycles Retail trade, excluding motor vehicles/cycles; repair of household goods Retail sale in non-specialised stores with food, beverages or tobacco predominating Retail sale of food, beverages and tobacco in specialised stores Retail sale of textiles Retail sale of clothing Retail sale of footwear and leather goods Retail sale of furniture, lighting equipment and household articles n.e.c. Retail sale of electrical household appliances and radio and television goods Retail sale of hardware, paints and glass Retail trade n.e.c. Hotels and restaurants Hotels Other provision of short-stay accommodation Restaurants Bars Canteens and catering Transport, storage and communications Land transport; transport via pipelines Transport via railways Freight transport by road All other land transport Water transport Air transport Auxiliary transport activities; activities of travel agencies Cargo handling and storage Other supporting transport activities Activities of travel agencies and tour operators; tourist assistance activities n.e.c. Activities of other transport agencies Post and telecommunications Post and courier activities Telecommunications Banking and financial services Banking and financial services, except insurance and pension funding Insurance and pension funding Activities auxiliary to banking and financial services Activities auxiliary to banking and financial services, except insurance and pension funding Activities auxiliary to insurance and pension funding Real estate, renting and business activities Real estate activities Renting of machinery and equipment without operator and of personal and household goods Computer and related activities Research and development Other business activities Legal activities Accounting, book-keeping and auditing activities; tax consultancy Architectural and engineering activities and related technical consultancy Technical testing and analysis Advertising Labour recruitment and provision of personnel Investigation and security activities Industrial cleaning Miscellaneous business activities n.e.c Public administration and defence Defence activities Garda Síochána All other public administration Education Primary education Secondary education Higher education Adult and other education n.e.c. Health and social work Hospital activities Medical practice activities Dental practice activities Other human health activities Veterinary activities Social work activities Other community, social and personal service activities Sewage and refuse disposal, sanitation and similar activities Activities of membership organisations n.e.c. Recreational, cultural and sporting activities Motion picture and video activities Radio and television activities Other entertainment activities News agency activities Library, archives, museums and other cultural activities Sporting activities Other recreational activities Other services activities Washing and dry-cleaning of textile and fur products Hairdressing and other beauty treatment Funeral and related activities Physical well-being activities Other service activities n.e.c. Private households with employed persons Industry not stated All industries'}]],\n",
       "      dtype=object)"
      ]
     },
     "execution_count": 40,
     "metadata": {},
     "output_type": "execute_result"
    }
   ],
   "source": [
    "docs, scores = new_retriever.retrieve(query_tokens, k=10, corpus=corpus_new)\n",
    "docs"
   ]
  },
  {
   "cell_type": "markdown",
   "id": "25dbaa56",
   "metadata": {},
   "source": [
    "#### Chunking BM25 corpus\n",
    "Background -\n",
    "- Long-document dilution / verbosity bias can bring down the BM25 score for documents that are huge in size.\n",
    "- Scoring then b y max passage score per table can eliminate dilution while keeping recall\n",
    "\n",
    "First we'll visualise the problem."
   ]
  },
  {
   "cell_type": "code",
   "execution_count": 2,
   "id": "a31ae787",
   "metadata": {},
   "outputs": [],
   "source": [
    "import seaborn as sns\n",
    "import matplotlib.pyplot as plt\n",
    "import pandas as pd\n",
    "import json"
   ]
  },
  {
   "cell_type": "code",
   "execution_count": null,
   "id": "d1a2efc4",
   "metadata": {},
   "outputs": [],
   "source": [
    "# load corpus\n",
    "with open(\"artifacts/bm25/corpus.jsonl\", \"r\") as f:\n",
    "    corpus = [json.loads(line) for line in f]"
   ]
  },
  {
   "cell_type": "code",
   "execution_count": 5,
   "id": "96f3f674",
   "metadata": {},
   "outputs": [
    {
     "name": "stderr",
     "output_type": "stream",
     "text": [
      "/opt/anaconda3/envs/python311/lib/python3.11/site-packages/scipy/_lib/_util.py:1279: RuntimeWarning: divide by zero encountered in vecdot\n",
      "  return np.vecdot(x1, x2, axis=axis)\n",
      "/opt/anaconda3/envs/python311/lib/python3.11/site-packages/scipy/_lib/_util.py:1279: RuntimeWarning: overflow encountered in vecdot\n",
      "  return np.vecdot(x1, x2, axis=axis)\n",
      "/opt/anaconda3/envs/python311/lib/python3.11/site-packages/scipy/_lib/_util.py:1279: RuntimeWarning: invalid value encountered in vecdot\n",
      "  return np.vecdot(x1, x2, axis=axis)\n"
     ]
    },
    {
     "data": {
      "text/plain": [
       "(0.0, 2000.0)"
      ]
     },
     "execution_count": 5,
     "metadata": {},
     "output_type": "execute_result"
    },
    {
     "data": {
      "image/png": "[encoded data removed]",
      "text/plain": [
       "<Figure size 640x480 with 1 Axes>"
      ]
     },
     "metadata": {},
     "output_type": "display_data"
    }
   ],
   "source": [
    "word_lengths = [\n",
    "    len(x[\"text\"].split(\" \"))\n",
    "    for x in corpus\n",
    "]\n",
    "# plot word length distribution using seaborn\n",
    "sns.histplot(word_lengths, bins=2000, kde=True)\n",
    "\n",
    "# set limit on x-axis to 500\n",
    "plt.xlim(0, 2000)"
   ]
  },
  {
   "cell_type": "code",
   "execution_count": 9,
   "id": "beb17979",
   "metadata": {},
   "outputs": [
    {
     "name": "stdout",
     "output_type": "stream",
     "text": [
      "(12435, 3)\n"
     ]
    },
    {
     "data": {
      "text/html": [
       "<div>\n",
       "<style scoped>\n",
       "    .dataframe tbody tr th:only-of-type {\n",
       "        vertical-align: middle;\n",
       "    }\n",
       "\n",
       "    .dataframe tbody tr th {\n",
       "        vertical-align: top;\n",
       "    }\n",
       "\n",
       "    .dataframe thead th {\n",
       "        text-align: right;\n",
       "    }\n",
       "</style>\n",
       "<table border=\"1\" class=\"dataframe\">\n",
       "  <thead>\n",
       "    <tr style=\"text-align: right;\">\n",
       "      <th></th>\n",
       "      <th>id</th>\n",
       "      <th>word_length</th>\n",
       "      <th>character_length</th>\n",
       "      <th>word_length_bucket</th>\n",
       "    </tr>\n",
       "  </thead>\n",
       "  <tbody>\n",
       "    <tr>\n",
       "      <th>0</th>\n",
       "      <td>PCA16</td>\n",
       "      <td>54301</td>\n",
       "      <td>387666</td>\n",
       "      <td>[54240, 54320)</td>\n",
       "    </tr>\n",
       "    <tr>\n",
       "      <th>1</th>\n",
       "      <td>PCA17</td>\n",
       "      <td>54301</td>\n",
       "      <td>387666</td>\n",
       "      <td>[54240, 54320)</td>\n",
       "    </tr>\n",
       "    <tr>\n",
       "      <th>2</th>\n",
       "      <td>PCA22</td>\n",
       "      <td>49258</td>\n",
       "      <td>343844</td>\n",
       "      <td>[49200, 49280)</td>\n",
       "    </tr>\n",
       "    <tr>\n",
       "      <th>3</th>\n",
       "      <td>PCA20</td>\n",
       "      <td>47046</td>\n",
       "      <td>336662</td>\n",
       "      <td>[47040, 47120)</td>\n",
       "    </tr>\n",
       "    <tr>\n",
       "      <th>4</th>\n",
       "      <td>PCA02</td>\n",
       "      <td>45184</td>\n",
       "      <td>351216</td>\n",
       "      <td>[45120, 45200)</td>\n",
       "    </tr>\n",
       "    <tr>\n",
       "      <th>5</th>\n",
       "      <td>PCA01</td>\n",
       "      <td>44998</td>\n",
       "      <td>350753</td>\n",
       "      <td>[44960, 45040)</td>\n",
       "    </tr>\n",
       "    <tr>\n",
       "      <th>6</th>\n",
       "      <td>PCA03</td>\n",
       "      <td>44158</td>\n",
       "      <td>343819</td>\n",
       "      <td>[44080, 44160)</td>\n",
       "    </tr>\n",
       "    <tr>\n",
       "      <th>7</th>\n",
       "      <td>PCA14</td>\n",
       "      <td>43442</td>\n",
       "      <td>291401</td>\n",
       "      <td>[43440, 43520)</td>\n",
       "    </tr>\n",
       "    <tr>\n",
       "      <th>8</th>\n",
       "      <td>PCA23</td>\n",
       "      <td>42848</td>\n",
       "      <td>307906</td>\n",
       "      <td>[42800, 42880)</td>\n",
       "    </tr>\n",
       "    <tr>\n",
       "      <th>9</th>\n",
       "      <td>PCA18</td>\n",
       "      <td>39499</td>\n",
       "      <td>328553</td>\n",
       "      <td>[39440, 39520)</td>\n",
       "    </tr>\n",
       "    <tr>\n",
       "      <th>10</th>\n",
       "      <td>PCA19</td>\n",
       "      <td>39497</td>\n",
       "      <td>328537</td>\n",
       "      <td>[39440, 39520)</td>\n",
       "    </tr>\n",
       "    <tr>\n",
       "      <th>11</th>\n",
       "      <td>PCA04</td>\n",
       "      <td>39114</td>\n",
       "      <td>302964</td>\n",
       "      <td>[39040, 39120)</td>\n",
       "    </tr>\n",
       "    <tr>\n",
       "      <th>12</th>\n",
       "      <td>PCA05</td>\n",
       "      <td>39013</td>\n",
       "      <td>302123</td>\n",
       "      <td>[38960, 39040)</td>\n",
       "    </tr>\n",
       "    <tr>\n",
       "      <th>13</th>\n",
       "      <td>PCA15</td>\n",
       "      <td>38825</td>\n",
       "      <td>326150</td>\n",
       "      <td>[38800, 38880)</td>\n",
       "    </tr>\n",
       "    <tr>\n",
       "      <th>14</th>\n",
       "      <td>PCA08</td>\n",
       "      <td>38632</td>\n",
       "      <td>288021</td>\n",
       "      <td>[38560, 38640)</td>\n",
       "    </tr>\n",
       "    <tr>\n",
       "      <th>15</th>\n",
       "      <td>PCA09</td>\n",
       "      <td>38430</td>\n",
       "      <td>287381</td>\n",
       "      <td>[38400, 38480)</td>\n",
       "    </tr>\n",
       "    <tr>\n",
       "      <th>16</th>\n",
       "      <td>PCA10</td>\n",
       "      <td>38411</td>\n",
       "      <td>288136</td>\n",
       "      <td>[38400, 38480)</td>\n",
       "    </tr>\n",
       "    <tr>\n",
       "      <th>17</th>\n",
       "      <td>PCA06</td>\n",
       "      <td>35127</td>\n",
       "      <td>269460</td>\n",
       "      <td>[35120, 35200)</td>\n",
       "    </tr>\n",
       "    <tr>\n",
       "      <th>18</th>\n",
       "      <td>PCA07</td>\n",
       "      <td>34873</td>\n",
       "      <td>267136</td>\n",
       "      <td>[34800, 34880)</td>\n",
       "    </tr>\n",
       "    <tr>\n",
       "      <th>19</th>\n",
       "      <td>HCA01</td>\n",
       "      <td>28478</td>\n",
       "      <td>208487</td>\n",
       "      <td>[28400, 28480)</td>\n",
       "    </tr>\n",
       "  </tbody>\n",
       "</table>\n",
       "</div>"
      ],
      "text/plain": [
       "       id  word_length  character_length word_length_bucket\n",
       "0   PCA16        54301            387666     [54240, 54320)\n",
       "1   PCA17        54301            387666     [54240, 54320)\n",
       "2   PCA22        49258            343844     [49200, 49280)\n",
       "3   PCA20        47046            336662     [47040, 47120)\n",
       "4   PCA02        45184            351216     [45120, 45200)\n",
       "5   PCA01        44998            350753     [44960, 45040)\n",
       "6   PCA03        44158            343819     [44080, 44160)\n",
       "7   PCA14        43442            291401     [43440, 43520)\n",
       "8   PCA23        42848            307906     [42800, 42880)\n",
       "9   PCA18        39499            328553     [39440, 39520)\n",
       "10  PCA19        39497            328537     [39440, 39520)\n",
       "11  PCA04        39114            302964     [39040, 39120)\n",
       "12  PCA05        39013            302123     [38960, 39040)\n",
       "13  PCA15        38825            326150     [38800, 38880)\n",
       "14  PCA08        38632            288021     [38560, 38640)\n",
       "15  PCA09        38430            287381     [38400, 38480)\n",
       "16  PCA10        38411            288136     [38400, 38480)\n",
       "17  PCA06        35127            269460     [35120, 35200)\n",
       "18  PCA07        34873            267136     [34800, 34880)\n",
       "19  HCA01        28478            208487     [28400, 28480)"
      ]
     },
     "execution_count": 9,
     "metadata": {},
     "output_type": "execute_result"
    }
   ],
   "source": [
    "lengths_list = []\n",
    "\n",
    "for item in corpus:\n",
    "    lengths_list.append(\n",
    "        {\n",
    "            \"id\": item[\"id\"],\n",
    "            \"word_length\": len(item[\"text\"].split(\" \")),\n",
    "            \"character_length\": len(item[\"text\"])\n",
    "        }\n",
    "    )\n",
    "\n",
    "lengths_df = pd.DataFrame(lengths_list)\n",
    "lengths_df.sort_values(by=\"word_length\", ascending=False, inplace=True)\n",
    "lengths_df.reset_index(drop=True, inplace=True)\n",
    "print(lengths_df.shape)\n",
    "# categorise word_length into buckets of 50 (0-50, 50-100, and so on) and then\n",
    "lengths_df[\"word_length_bucket\"] = pd.cut(lengths_df[\"word_length\"], bins=range(0, 54400, 80), right=False)\n",
    "lengths_df[:20]"
   ]
  },
  {
   "cell_type": "markdown",
   "id": "058b5f80",
   "metadata": {},
   "source": [
    "### Document-split and re-generate BM25 index"
   ]
  },
  {
   "cell_type": "code",
   "execution_count": null,
   "id": "d905a4a1",
   "metadata": {},
   "outputs": [],
   "source": [
    "def _helper():\n",
    "    pass\n",
    "\n",
    "def get_chunked_bag_of_words(cso_file: str) -> str:\n",
    "    \"\"\"Generate a bag of words from the JSON data.\"\"\"\n",
    "    col_dist_vals_dic = {}\n",
    "\n",
    "    col_ids = cso_file['id']\n",
    "    label = cso_file['label']\n",
    "    subject = cso_file['extension']['subject']['value']\n",
    "    product = cso_file['extension']['product']['value']\n",
    "    table_id = cso_file['extension'][\"matrix\"]\n",
    "\n",
    "    for col_id in col_ids:\n",
    "        col_name = cso_file['dimension'][col_id]['label']\n",
    "        if col_id.startswith(\"TLIST\"):\n",
    "            continue\n",
    "        else:\n",
    "            col_dist_vals_dic[col_name] = list(cso_file['dimension'][col_id]['category']['label'].values())\n",
    "\n",
    "    # combine the label, subject, product and column name and distribution values into a single string\n",
    "    combined_str = f\"\"\"{label} - {subject} - {product} - {\" \".join([key for key in col_dist_vals_dic.keys()] + [\" \".join(val) for val in col_dist_vals_dic.values()])}\"\"\"\n",
    "    header_str = f\"\"\"{label} - {subject} - {product} - {\" \".join([key for key in col_dist_vals_dic.keys()])}\"\"\"\n",
    "    batch_size = 50\n",
    "    values_dump = \" \".join([\" \".join(val) for val in col_dist_vals_dic.values()]).split()\n",
    "\n",
    "    chunks = []\n",
    "    for i in range(0, len(values_dump), batch_size):\n",
    "        combined_str = header_str + \"\\n\" + \" \".join(values_dump[i:i + batch_size])\n",
    "        chunks.append({\"id\": table_id, \"text\": combined_str})\n",
    "\n",
    "    return [{\"id\": table_id, \"text\": combined_str}]\n",
    "\n",
    "corpus = []\n",
    "\n",
    "for cso_file in cso_files.values():\n",
    "    corpus.extend(get_chunked_bag_of_words(cso_file))\n",
    "\n",
    "corpus = [get_chunked_bag_of_words(item[\"data\"]) for item in cso_files.values()]"
   ]
  }
 ],
 "metadata": {
  "kernelspec": {
   "display_name": "python311",
   "language": "python",
   "name": "python3"
  },
  "language_info": {
   "codemirror_mode": {
    "name": "ipython",
    "version": 3
   },
   "file_extension": ".py",
   "mimetype": "text/x-python",
   "name": "python",
   "nbconvert_exporter": "python",
   "pygments_lexer": "ipython3",
   "version": "3.11.13"
  }
 },
 "nbformat": 4,
 "nbformat_minor": 5
}
