{
 "cells": [
  {
   "cell_type": "markdown",
   "id": "2bdeac1a",
   "metadata": {},
   "source": [
    "## Data-Analyst-Agent - PoC\n",
    "Here, we will create the Data-Analyst agent. Given a single relevant table, it's task will be to attempt to answer the user's question.\n",
    "\n",
    "The data-analyst agent will have access to Python-shell to run commands and perform analysis to learn insights about the data w.r.t the user's question.\n",
    "\n",
    "We will use `LangGraph` to build this custom tool-calling agent.\n",
    "\n",
    "Some desired features of the Data-Analyst agent:\n",
    "- It should be able to write Python queries\n",
    "- It should be able to run Python queries\n",
    "- It should be able to import relevant python libraries (like Pandas, Numpy, JSON, etc.) required to run the code.\n",
    "- The analysis it does should not include any visualisation, only the written descriptive statistics are required (since the LLM will be able to see and understand textual output only)\n",
    "- It should be able to handle any runtime errors faced during Python execution, and take corrective actions by re-writing the python-script and attempting to run it again\n",
    "- The output generated after running the Python queries should be used to gradually build the context, over multiple calls to Python-execution tool (if required)\n",
    "- Once the agent \"thinks\" it has enough context to answer the question, it should attempt to answer the question citing only the statistics from the table\n",
    "- If there's no relevant context, the agent should cease running and reply with something like - \"*this table does not contain enough relevant information to answer your question ...*\"\n",
    "\n",
    "Let's get started."
   ]
  },
  {
   "cell_type": "code",
   "execution_count": 2,
   "id": "6d67d089",
   "metadata": {},
   "outputs": [],
   "source": [
    "import os\n",
    "import io\n",
    "import sys\n",
    "import json\n",
    "import traceback\n",
    "import regex as re\n",
    "import pandas as pd\n",
    "from pyjstat import pyjstat\n",
    "from textwrap import dedent\n",
    "from pyjstat import pyjstat\n",
    "from pydantic import BaseModel, Field\n",
    "from typing_extensions import TypedDict\n",
    "from typing import Dict, List, Any, Literal, Annotated\n",
    "\n",
    "from langgraph.types import Command\n",
    "from langchain_core.tools import tool\n",
    "from langgraph.graph.message import add_messages\n",
    "from langgraph.graph import StateGraph, START, END\n",
    "from langgraph.prebuilt import ToolNode, tools_condition\n",
    "from langchain_google_genai import ChatGoogleGenerativeAI\n",
    "from langchain_core.messages import HumanMessage, SystemMessage, BaseMessage, AIMessage, ToolMessage\n",
    "from langgraph.prebuilt import InjectedState\n",
    "from langchain_core.tools import tool, InjectedToolCallId"
   ]
  },
  {
   "cell_type": "code",
   "execution_count": 3,
   "id": "57faa926",
   "metadata": {},
   "outputs": [],
   "source": [
    "from pathlib import Path\n",
    "import os\n",
    "\n",
    "root = Path().absolute().parents[1]\n",
    "os.chdir(str(root))"
   ]
  },
  {
   "cell_type": "code",
   "execution_count": 4,
   "id": "3a49dd59",
   "metadata": {},
   "outputs": [],
   "source": [
    "llm_low = ChatGoogleGenerativeAI(\n",
    "    model=\"gemini-2.0-flash-lite\",\n",
    "    temperature=1,\n",
    "    max_tokens=None,\n",
    "    timeout=None,\n",
    "    max_retries=2,\n",
    ")\n",
    "llm_med = ChatGoogleGenerativeAI(\n",
    "    model=\"gemini-2.5-flash\",\n",
    "    temperature=1,\n",
    "    max_tokens=None,\n",
    "    timeout=None,\n",
    "    max_retries=2,\n",
    ")\n",
    "llm_high  = ChatGoogleGenerativeAI(\n",
    "    model=\"gemini-2.5-pro\",\n",
    "    temperature=1,\n",
    "    max_tokens=None,\n",
    "    timeout=None,\n",
    "    max_retries=2,\n",
    ")"
   ]
  },
  {
   "cell_type": "code",
   "execution_count": 5,
   "id": "4b2e5621",
   "metadata": {},
   "outputs": [],
   "source": [
    "def _run_python_safely(code: str) -> Dict[str, Any]:\n",
    "    \"\"\"\n",
    "    Minimal sandbox runner. In production: isolate with subprocess, container, time & mem limits.\n",
    "    Returns {\"stdout\": str, \"error\": {\"type\":, \"message\":, \"trace\":}} on failure.\n",
    "    \"\"\"\n",
    "    stdout_capture = io.StringIO()\n",
    "    old_stdout, old_stderr = sys.stdout, sys.stderr\n",
    "    sys.stdout = stdout_capture\n",
    "    sys.stderr = stdout_capture  # co-mingle\n",
    "    globals_dict = {\"__name__\": \"__main__\"}\n",
    "    try:\n",
    "        exec(code, globals_dict, globals_dict)\n",
    "        out = stdout_capture.getvalue()\n",
    "        return {\"stdout\": out}\n",
    "    except Exception as e:\n",
    "        err = {\"type\": e.__class__.__name__, \"message\": str(e), \"trace\": traceback.format_exc()}\n",
    "        return {\"stdout\": stdout_capture.getvalue(), \"error\": err}\n",
    "    finally:\n",
    "        sys.stdout, sys.stderr = old_stdout, old_stderr\n",
    "\n",
    "@tool(name_or_callable=\"python_code_executor\", parse_docstring=True)\n",
    "def python_code_executor(\n",
    "    code: str,\n",
    "    description: str,\n",
    "    state: Annotated[dict, InjectedState],\n",
    "    tool_call_id: Annotated[str, InjectedToolCallId],\n",
    ") -> str:\n",
    "    \"\"\"\n",
    "    Executes the given Python code and returns the output.\n",
    "    \n",
    "    Args:\n",
    "        code (str): The Python code to execute.\n",
    "        description (str): A short description of the code being executed.\n",
    "    \n",
    "    Returns:\n",
    "        str: The output of the executed code.\n",
    "    \"\"\"\n",
    "    print(\"Executing code in python_code_executor: \", description)\n",
    "    result = _run_python_safely(code)\n",
    "    print(\"Result from python_code_executor: \", result['stdout'])\n",
    "\n",
    "    if 'error' in result:\n",
    "        return Command(\n",
    "            update={\n",
    "                \"scratchpad\": [\n",
    "                    ToolMessage(\n",
    "                        content=f\"Error executing code: {result['error']}\",\n",
    "                        tool_call_id=tool_call_id,\n",
    "                        name=\"python_code_executor\"\n",
    "                    )\n",
    "                ],\n",
    "            }\n",
    "        )\n",
    "    \n",
    "\n",
    "    return Command(\n",
    "        update={\n",
    "            \"scratchpad\": [\n",
    "                ToolMessage(\n",
    "                    content=result['stdout'],\n",
    "                    # content=\"Context updated with required analysis.\",\n",
    "                    tool_call_id=tool_call_id,\n",
    "                    name=\"python_code_executor\"\n",
    "                )\n",
    "            ],\n",
    "        }\n",
    "    )\n",
    "\n",
    "TOOLS = [python_code_executor]\n",
    "\n",
    "llm_med_with_code_exec_tool = llm_med.bind_tools(TOOLS, allowed_function_names=[\"python_code_executor\"])\n",
    "llm_high_with_code_exec_tool = llm_high.bind_tools(TOOLS, allowed_function_names=[\"python_code_executor\"])"
   ]
  },
  {
   "cell_type": "code",
   "execution_count": 6,
   "id": "9ffe2ed0",
   "metadata": {},
   "outputs": [],
   "source": [
    "class State(TypedDict):\n",
    "    \"\"\"State for the analyst agent.\"\"\"\n",
    "    scratchpad: Annotated[list[BaseMessage], add_messages] = Field(default=[], description=\"The scratchpad for the agent.\")\n",
    "    context: str = Field(default=None, description=\"The context for the agent to use.\")\n",
    "    iters: int = Field(default=0, description=\"The number of iterations the agent has gone through.\")\n",
    "    sub_question: str = Field(description=\"The question asked by the user.\")\n",
    "    table_id: str = Field(description=\"The ID of the table being queried.\")\n",
    "    # csv_fp: str = Field(default=\"\", description=\"The file path to the CSV file containing the CSO data.\")\n",
    "    # code: str = Field(default=\"\", description=\"The python code to run.\")\n"
   ]
  },
  {
   "cell_type": "code",
   "execution_count": 7,
   "id": "39661d63",
   "metadata": {},
   "outputs": [],
   "source": [
    "from src.helpers.json_stat_archive_db import JSONStatArchiveDB\n",
    "\n",
    "cso_archive_reader = JSONStatArchiveDB(compression_level=12)"
   ]
  },
  {
   "cell_type": "code",
   "execution_count": 8,
   "id": "6f15c885",
   "metadata": {},
   "outputs": [],
   "source": [
    "SYSTEM_PROMPT_ANALYST = dedent(\n",
    "    f\"\"\"\\\n",
    "        # ROLE: I am a Data Analyst Agent that has access to Python-shell tool/function - `python_code_executor(code: str, description: str)`.\n",
    "\n",
    "        # INSTRUCTIONS:\n",
    "            - I call the `python_code_executor` tool to analyse the data.\n",
    "            - Once I feel I know enough, I give a crisp and concise answer to the user's question.\n",
    "\n",
    "        # NOTE:\n",
    "            - The python-script should import necessary libraries (pandas, numpy, os, pathlib, etc) to read the CSV file and perform data manipulation \n",
    "            - The python-script use `print` statements for printing any statistics that you need to fetch.\n",
    "            - In a single tool-call to `python_code_executor`, I ask for a single statistic to be fetched.\n",
    "            - I keep the commentary limited in this step.\n",
    "            - Once I have enough statistics to answer the user's question, I give a crisp and concise answer to user's question, with proper data backing it up.\n",
    "        \n",
    "        # WARNINGS:\n",
    "            - For tool-calls to `python_code_executor` tool, only send the python code as `code` parameter\n",
    "            - Do not include any visualizations or plots in the code.\n",
    "            - In case I get reported back with any errors in executing the python code, I should make necessary corrections and call the python_code_executor tool to re-run the code.\n",
    "        \n",
    "        # TIPS:\n",
    "            - For high cardinality columns, consider using simple keyword based filtering (like `str.contains('abc|xyz')`). Also consider items / categories related to said keywords.\n",
    "    \"\"\"\n",
    ")\n",
    "def _create_table_analysis(df: pd.DataFrame, table_id: str) -> dict:\n",
    "    \"\"\"\n",
    "    Analyzes the table and returns a dictionary with the analysis results.\n",
    "\n",
    "    Args:\n",
    "        df (pd.DataFrame): The DataFrame containing the CSO data.\n",
    "\n",
    "    Returns:\n",
    "        dict: A dictionary containing the analysis results.\n",
    "    \"\"\"\n",
    "    csv_fp = f\"cache/{table_id}.csv\"\n",
    "    try:\n",
    "        table_shape = df.shape\n",
    "        table_sample = pd.concat([df.head(5), df.tail(5)]) if len(df) > 10 else df\n",
    "        \n",
    "        table_info_df = pd.DataFrame({\n",
    "            \"columns\": df.columns,\n",
    "            \"dtypes\": [str(df[col].dtype) for col in df.columns],\n",
    "            \"nunique\": [df[col].nunique() if df[col].nunique() <= 50 else '>50' for col in df.columns],\n",
    "            \"nulls\": [df[col].isnull().sum() for col in df.columns]\n",
    "        })\n",
    "\n",
    "        context_list = [\n",
    "            \"CONTEXT:\",\n",
    "            f\"- **CSV File Path**: {csv_fp}\",\n",
    "            f\"- **Table Shape**: {table_shape}\",\n",
    "            \"- **Table Info**:\",\n",
    "            table_info_df.to_string(index=False),\n",
    "            \"- **Table Sample (first and last 5 rows)**:\",\n",
    "            table_sample.to_string(index=False),\n",
    "        ]\n",
    "\n",
    "    except Exception as e:\n",
    "        context_list = None\n",
    "\n",
    "    return context_list\n",
    "\n",
    "def analyst_agent(state: State) -> str:\n",
    "    \"\"\"\n",
    "    The analyst agent has access to the Python-Shell tool and uses it answer the user query by analysing the data available in context.\n",
    "\n",
    "    Args:\n",
    "        state (State): The state containing the messages and other data.\n",
    "    \n",
    "    Returns:\n",
    "        str: The response from the analyst agent.\n",
    "    \"\"\"\n",
    "    sub_question = state[\"sub_question\"]\n",
    "    old_messages = state[\"scratchpad\"]\n",
    "    system_prompt = SYSTEM_PROMPT_ANALYST\n",
    "    iters = state.get(\"iters\", 0)\n",
    "    table_id = state[\"table_id\"]\n",
    "    iters += 1\n",
    "\n",
    "    csv_save_dir = \"cache/\"\n",
    "    csv_fp = csv_save_dir + f\"{table_id}.csv\"\n",
    "\n",
    "    # check if \"<table_id>.csv\" exists. If not, read the pyjstat-file from artifacts and save the DataFrame as \"<table_id>.csv\"\n",
    "    if not os.path.exists(csv_fp):\n",
    "        for _, ds, _ in cso_archive_reader.read(\"artifacts/cso_bkp/cso_archive/jsonstat_archive.sqlite\", table_id=table_id, with_labels=True):\n",
    "            df: pd.DataFrame = pyjstat.from_json_stat(ds)[0]\n",
    "        df.to_csv(csv_fp, index=False)\n",
    "\n",
    "    if state.get(\"context\", None) is None:\n",
    "        df = pd.read_csv(csv_fp)\n",
    "        context_list = _create_table_analysis(df, table_id)\n",
    "        context = \"\\n\".join(context_list) if context_list else \"No context available.\"\n",
    "    else:\n",
    "        context = state[\"context\"]\n",
    "\n",
    "    msgs = [\n",
    "        SystemMessage(content=system_prompt, name=\"analyst_agent\"),\n",
    "        SystemMessage(content=context, name=\"analyst_agent\"),\n",
    "        HumanMessage(content=sub_question, name=\"analyst_agent\"),\n",
    "    ] + old_messages\n",
    "    \n",
    "    if iters <= 10:\n",
    "        print(\"Running data-analyst agent...\")\n",
    "        res = llm_med_with_code_exec_tool.invoke(msgs)\n",
    "    else:\n",
    "        print(\"Stopping tool-calls as max-iterations reached. Generating final response...\")\n",
    "        res = llm_med.invoke(msgs)\n",
    "        return {\"scratchpad\": [res], \"iters\": iters, \"context\": context}\n",
    "    \n",
    "    if isinstance(res, AIMessage):\n",
    "        return {\"scratchpad\": [res], \"iters\": iters, \"context\": context}\n",
    "    else:\n",
    "        res = AIMessage(\"Error generating code.\")\n",
    "        return {\"scratchpad\": [res], \"iters\": iters, \"context\": context}\n"
   ]
  },
  {
   "cell_type": "code",
   "execution_count": 9,
   "id": "ad85c023",
   "metadata": {},
   "outputs": [],
   "source": [
    "def has_tool_calls(msg: AIMessage) -> bool:\n",
    "    \"\"\"\n",
    "    Check if the AIMessage has tool calls.\n",
    "    \n",
    "    Args:\n",
    "        msg (AIMessage): The AI message to check.\n",
    "    \n",
    "    Returns:\n",
    "        bool: True if the message has tool calls, False otherwise.\n",
    "    \"\"\"\n",
    "    return getattr(msg, \"tool_calls\", None) is not None or \\\n",
    "           bool(getattr(msg, \"additional_kwargs\", {}).get(\"function_call\") or \\\n",
    "                getattr(msg, \"additional_kwargs\", {}).get(\"tool_calls\"))\n",
    "\n",
    "\n",
    "def custom_tools_condition(state: State) -> bool:\n",
    "    \"\"\"\n",
    "    Route the LLM based on tool calls in the last message.\n",
    "    \n",
    "    Args:\n",
    "        state (State): The current state of the graph.\n",
    "    \n",
    "    Returns:\n",
    "        str: \"tools\" if the last message has tool calls, \"end\" otherwise.\n",
    "    \"\"\"\n",
    "    messages_key = \"scratchpad\"\n",
    "    if isinstance(state, list):\n",
    "        ai_message = state[-1]\n",
    "    elif isinstance(state, dict) and (messages := state.get(messages_key, [])):\n",
    "        ai_message = messages[-1]\n",
    "    elif messages := getattr(state, messages_key, []):\n",
    "        ai_message = messages[-1]\n",
    "    else:\n",
    "        raise ValueError(f\"No messages found in input state to tool_edge: {state}\")\n",
    "    if hasattr(ai_message, \"tool_calls\") and len(ai_message.tool_calls) > 0:\n",
    "        return \"tools\"\n",
    "    return \"__end__\""
   ]
  },
  {
   "cell_type": "code",
   "execution_count": 10,
   "id": "99221cc5",
   "metadata": {},
   "outputs": [
    {
     "data": {
      "image/png": "[encoded data removed]",
      "text/plain": [
       "<langgraph.graph.state.CompiledStateGraph object at 0x10e3bd150>"
      ]
     },
     "execution_count": 10,
     "metadata": {},
     "output_type": "execute_result"
    }
   ],
   "source": [
    "tool_node = ToolNode(TOOLS, messages_key=\"scratchpad\")\n",
    "\n",
    "analyst_graph_builder = StateGraph(State)\n",
    "\n",
    "analyst_graph_builder.add_node(\"analyst_agent\", analyst_agent)\n",
    "analyst_graph_builder.add_node(\"tools\", tool_node)\n",
    "\n",
    "analyst_graph_builder.add_edge(START, \"analyst_agent\")\n",
    "analyst_graph_builder.add_conditional_edges(\"analyst_agent\", custom_tools_condition, {\"__end__\": END, \"tools\": \"tools\"})\n",
    "# analyst_graph_builder.add_conditional_edges(\"analyst_agent\", custom_tools_condition, {\"end\": END, \"tools\": \"tools\"})\n",
    "analyst_graph_builder.add_edge(\"tools\", \"analyst_agent\")\n",
    "\n",
    "analyst_graph = analyst_graph_builder.compile()\n",
    "analyst_graph"
   ]
  },
  {
   "cell_type": "code",
   "execution_count": 11,
   "id": "21c6504f",
   "metadata": {},
   "outputs": [
    {
     "name": "stdout",
     "output_type": "stream",
     "text": [
      "Running data-analyst agent...\n",
      "Executing code in python_code_executor:  Calculate the total production value for cosmetics, toiletries, and related items in Prodcom Sales 2023 data.\n",
      "Result from python_code_executor:  Total production value for cosmetics, toiletries and related items: 20519.0\n",
      "\n",
      "Running data-analyst agent...\n",
      "\n",
      "\n",
      "FINAL OUTPUT:\n",
      " The total production value for cosmetics, toiletries, and related items in Prodcom Sales 2023 data for Ireland is 20519.0.\n"
     ]
    }
   ],
   "source": [
    "question = \"QUESTION: Give me the breakdown of renewable energy resources as a percentage share and absolute numbers in 2022 in ireland.\"\n",
    "question = \"QUESTION: How's the energy production in ireland over the years? Do a detailed comparison of renewable vs non-renewable share of energy\"\n",
    "# question = \"QUESTION: How's the wind energy production over the years?\"\n",
    "question = \"QUESTION: Did the Ukraine war have any impact on the energy production in ireland??\"\n",
    "# question = \"QUESTION: How has nuclear energy done over the years in ireland?\"\n",
    "# question = \"QUESTION: What's the impact of climate change on energy production in ireland?\"\n",
    "# question = \"QUESTION: How's the energy production in ireland over 2021-2025? Do a detailed comparison of renewable vs non-renewable share of energy\"\n",
    "# question = \"QUESTION: What's the total agricultural area in Ireland?\"\n",
    "question = \"detailed statistics on cosmetics, toileteries and related items production in prodcom data for ireland\"\n",
    "# question = \"detailed statistics on lignin based products and related items production in prodcom data for ireland\"\n",
    "\n",
    "\n",
    "\n",
    "table_id = \"PCA23\"\n",
    "\n",
    "res = analyst_graph.invoke(\n",
    "    {\n",
    "        \"sub_question\": question,\n",
    "        \"table_id\": table_id,\n",
    "    },\n",
    "    # config={\"recursion_limit\": 1}\n",
    ")\n",
    "print(\"\\n\\nFINAL OUTPUT:\\n\", res[\"scratchpad\"][-1].content)"
   ]
  },
  {
   "cell_type": "code",
   "execution_count": 12,
   "id": "370cbc6f",
   "metadata": {},
   "outputs": [
    {
     "data": {
      "text/plain": [
       "{'scratchpad': [AIMessage(content='', additional_kwargs={'function_call': {'name': 'python_code_executor', 'arguments': '{\"code\": \"\\\\nimport pandas as pd\\\\n\\\\ndf = pd.read_csv(\\\\\"cache/PCA23.csv\\\\\")\\\\n\\\\n# Filter for Prodcom Sales 2023\\\\ndf_prodcom_sales = df[df[\\\\\"Statistic\\\\\"] == \\\\\"Prodcom Sales 2023\\\\\"]\\\\n\\\\n# Filter for cosmetics, toiletries and related items\\\\ncosmetics_toiletries_df = df_prodcom_sales[df_prodcom_sales[\\\\\"Product\\\\\"].str.contains(\\\\\"cosmetic|toilet|perfume|soap|shampoo|dentifrice|make-up|fragrance\\\\\", case=False, na=False)]\\\\n\\\\n# Replace -99999999.0 with NaN and sum the values\\\\ncosmetics_toiletries_df = cosmetics_toiletries_df.replace(-99999999.0, pd.NA)\\\\ntotal_production_value = cosmetics_toiletries_df[\\\\\"value\\\\\"].sum()\\\\n\\\\nprint(f\\\\\"Total production value for cosmetics, toiletries and related items: {total_production_value}\\\\\")\\\\n\", \"description\": \"Calculate the total production value for cosmetics, toiletries, and related items in Prodcom Sales 2023 data.\"}'}}, response_metadata={'prompt_feedback': {'block_reason': 0, 'safety_ratings': []}, 'finish_reason': 'STOP', 'model_name': 'gemini-2.5-flash', 'safety_ratings': []}, id='run--e703269a-497e-4a27-8395-77a82b8188e9-0', tool_calls=[{'name': 'python_code_executor', 'args': {'code': '\\nimport pandas as pd\\n\\ndf = pd.read_csv(\"cache/PCA23.csv\")\\n\\n# Filter for Prodcom Sales 2023\\ndf_prodcom_sales = df[df[\"Statistic\"] == \"Prodcom Sales 2023\"]\\n\\n# Filter for cosmetics, toiletries and related items\\ncosmetics_toiletries_df = df_prodcom_sales[df_prodcom_sales[\"Product\"].str.contains(\"cosmetic|toilet|perfume|soap|shampoo|dentifrice|make-up|fragrance\", case=False, na=False)]\\n\\n# Replace -99999999.0 with NaN and sum the values\\ncosmetics_toiletries_df = cosmetics_toiletries_df.replace(-99999999.0, pd.NA)\\ntotal_production_value = cosmetics_toiletries_df[\"value\"].sum()\\n\\nprint(f\"Total production value for cosmetics, toiletries and related items: {total_production_value}\")\\n', 'description': 'Calculate the total production value for cosmetics, toiletries, and related items in Prodcom Sales 2023 data.'}, 'id': '31e0220b-cf6a-454b-9e43-3b0d5cb59848', 'type': 'tool_call'}], usage_metadata={'input_tokens': 966, 'output_tokens': 529, 'total_tokens': 1495, 'input_token_details': {'cache_read': 0}, 'output_token_details': {'reasoning': 236}}),\n",
       "  ToolMessage(content='Total production value for cosmetics, toiletries and related items: 20519.0\\n', name='python_code_executor', id='931a6db0-3a81-4f5a-871a-d844c51b0894', tool_call_id='31e0220b-cf6a-454b-9e43-3b0d5cb59848'),\n",
       "  AIMessage(content='The total production value for cosmetics, toiletries, and related items in Prodcom Sales 2023 data for Ireland is 20519.0.', additional_kwargs={}, response_metadata={'prompt_feedback': {'block_reason': 0, 'safety_ratings': []}, 'finish_reason': 'STOP', 'model_name': 'gemini-2.5-flash', 'safety_ratings': []}, id='run--1e677925-ba2c-47d7-a38b-701e5b30898c-0', usage_metadata={'input_tokens': 1296, 'output_tokens': 34, 'total_tokens': 1330, 'input_token_details': {'cache_read': 0}})],\n",
       " 'context': 'CONTEXT:\\n- **CSV File Path**: cache/PCA23.csv\\n- **Table Shape**: (7950, 4)\\n- **Table Info**:\\n  columns  dtypes nunique  nulls\\nStatistic  object       2      0\\n     Year   int64       1      0\\n  Product  object     >50      0\\n    value float64     >50      0\\n- **Table Sample (first and last 5 rows)**:\\n                  Statistic  Year                                                                                     Product       value\\n         Prodcom Sales 2023  2023 07101010 Iron ores and concentrates. Non-agglomerated (excluding roasted iron pyrites) (kg)         0.0\\n         Prodcom Sales 2023  2023     07101020 Iron ores and concentrates. Agglomerated (excluding roasted iron pyrites) (kg) -99999999.0\\n         Prodcom Sales 2023  2023                                                  07291100 Copper ores and concentrates (kg)         0.0\\n         Prodcom Sales 2023  2023                                                  07291200 Nickel ores and concentrates (kg)         0.0\\n         Prodcom Sales 2023  2023                                               07291300 Aluminium ores and concentrates (kg) -99999999.0\\nProdcom Sales 2023 (Volume)  2023                                            38322902 Secondary raw materials of lithium (kg)         0.0\\nProdcom Sales 2023 (Volume)  2023                                  38322903 Secondary raw materials of rare earth metals (kg)         0.0\\nProdcom Sales 2023 (Volume)  2023                                       38322910 Secondary raw materials of other metals (kg)         0.0\\nProdcom Sales 2023 (Volume)  2023                                                                    38322940 Slag sands (kg)         0.0\\nProdcom Sales 2023 (Volume)  2023                                             38323000 Non-metal secondary raw materials (kg) 151361032.0',\n",
       " 'iters': 2,\n",
       " 'sub_question': 'detailed statistics on cosmetics, toileteries and related items production in prodcom data for ireland',\n",
       " 'table_id': 'PCA23'}"
      ]
     },
     "execution_count": 12,
     "metadata": {},
     "output_type": "execute_result"
    }
   ],
   "source": [
    "res"
   ]
  },
  {
   "cell_type": "code",
   "execution_count": 13,
   "id": "041fdf08",
   "metadata": {},
   "outputs": [
    {
     "data": {
      "text/plain": [
       "[AIMessage(content='', additional_kwargs={'function_call': {'name': 'python_code_executor', 'arguments': '{\"code\": \"\\\\nimport pandas as pd\\\\n\\\\ndf = pd.read_csv(\\\\\"cache/PCA23.csv\\\\\")\\\\n\\\\n# Filter for Prodcom Sales 2023\\\\ndf_prodcom_sales = df[df[\\\\\"Statistic\\\\\"] == \\\\\"Prodcom Sales 2023\\\\\"]\\\\n\\\\n# Filter for cosmetics, toiletries and related items\\\\ncosmetics_toiletries_df = df_prodcom_sales[df_prodcom_sales[\\\\\"Product\\\\\"].str.contains(\\\\\"cosmetic|toilet|perfume|soap|shampoo|dentifrice|make-up|fragrance\\\\\", case=False, na=False)]\\\\n\\\\n# Replace -99999999.0 with NaN and sum the values\\\\ncosmetics_toiletries_df = cosmetics_toiletries_df.replace(-99999999.0, pd.NA)\\\\ntotal_production_value = cosmetics_toiletries_df[\\\\\"value\\\\\"].sum()\\\\n\\\\nprint(f\\\\\"Total production value for cosmetics, toiletries and related items: {total_production_value}\\\\\")\\\\n\", \"description\": \"Calculate the total production value for cosmetics, toiletries, and related items in Prodcom Sales 2023 data.\"}'}}, response_metadata={'prompt_feedback': {'block_reason': 0, 'safety_ratings': []}, 'finish_reason': 'STOP', 'model_name': 'gemini-2.5-flash', 'safety_ratings': []}, id='run--e703269a-497e-4a27-8395-77a82b8188e9-0', tool_calls=[{'name': 'python_code_executor', 'args': {'code': '\\nimport pandas as pd\\n\\ndf = pd.read_csv(\"cache/PCA23.csv\")\\n\\n# Filter for Prodcom Sales 2023\\ndf_prodcom_sales = df[df[\"Statistic\"] == \"Prodcom Sales 2023\"]\\n\\n# Filter for cosmetics, toiletries and related items\\ncosmetics_toiletries_df = df_prodcom_sales[df_prodcom_sales[\"Product\"].str.contains(\"cosmetic|toilet|perfume|soap|shampoo|dentifrice|make-up|fragrance\", case=False, na=False)]\\n\\n# Replace -99999999.0 with NaN and sum the values\\ncosmetics_toiletries_df = cosmetics_toiletries_df.replace(-99999999.0, pd.NA)\\ntotal_production_value = cosmetics_toiletries_df[\"value\"].sum()\\n\\nprint(f\"Total production value for cosmetics, toiletries and related items: {total_production_value}\")\\n', 'description': 'Calculate the total production value for cosmetics, toiletries, and related items in Prodcom Sales 2023 data.'}, 'id': '31e0220b-cf6a-454b-9e43-3b0d5cb59848', 'type': 'tool_call'}], usage_metadata={'input_tokens': 966, 'output_tokens': 529, 'total_tokens': 1495, 'input_token_details': {'cache_read': 0}, 'output_token_details': {'reasoning': 236}}),\n",
       " ToolMessage(content='Total production value for cosmetics, toiletries and related items: 20519.0\\n', name='python_code_executor', id='931a6db0-3a81-4f5a-871a-d844c51b0894', tool_call_id='31e0220b-cf6a-454b-9e43-3b0d5cb59848'),\n",
       " AIMessage(content='The total production value for cosmetics, toiletries, and related items in Prodcom Sales 2023 data for Ireland is 20519.0.', additional_kwargs={}, response_metadata={'prompt_feedback': {'block_reason': 0, 'safety_ratings': []}, 'finish_reason': 'STOP', 'model_name': 'gemini-2.5-flash', 'safety_ratings': []}, id='run--1e677925-ba2c-47d7-a38b-701e5b30898c-0', usage_metadata={'input_tokens': 1296, 'output_tokens': 34, 'total_tokens': 1330, 'input_token_details': {'cache_read': 0}})]"
      ]
     },
     "execution_count": 13,
     "metadata": {},
     "output_type": "execute_result"
    }
   ],
   "source": [
    "res[\"scratchpad\"]"
   ]
  },
  {
   "cell_type": "code",
   "execution_count": 15,
   "id": "c510de01",
   "metadata": {},
   "outputs": [
    {
     "data": {
      "text/plain": [
       "[{'name': 'python_code_executor',\n",
       "  'args': {'code': '\\nimport pandas as pd\\n\\ndf = pd.read_csv(\"cache/PCA23.csv\")\\n\\n# Filter for Prodcom Sales 2023\\ndf_prodcom_sales = df[df[\"Statistic\"] == \"Prodcom Sales 2023\"]\\n\\n# Filter for cosmetics, toiletries and related items\\ncosmetics_toiletries_df = df_prodcom_sales[df_prodcom_sales[\"Product\"].str.contains(\"cosmetic|toilet|perfume|soap|shampoo|dentifrice|make-up|fragrance\", case=False, na=False)]\\n\\n# Replace -99999999.0 with NaN and sum the values\\ncosmetics_toiletries_df = cosmetics_toiletries_df.replace(-99999999.0, pd.NA)\\ntotal_production_value = cosmetics_toiletries_df[\"value\"].sum()\\n\\nprint(f\"Total production value for cosmetics, toiletries and related items: {total_production_value}\")\\n',\n",
       "   'description': 'Calculate the total production value for cosmetics, toiletries, and related items in Prodcom Sales 2023 data.'},\n",
       "  'id': '31e0220b-cf6a-454b-9e43-3b0d5cb59848',\n",
       "  'type': 'tool_call'}]"
      ]
     },
     "execution_count": 15,
     "metadata": {},
     "output_type": "execute_result"
    }
   ],
   "source": [
    "res[\"scratchpad\"][0].tool_calls"
   ]
  },
  {
   "cell_type": "code",
   "execution_count": 16,
   "id": "477fb81e",
   "metadata": {},
   "outputs": [
    {
     "data": {
      "text/plain": [
       "{'content': '',\n",
       " 'additional_kwargs': {'function_call': {'name': 'python_code_executor',\n",
       "   'arguments': '{\"code\": \"\\\\nimport pandas as pd\\\\n\\\\ndf = pd.read_csv(\\\\\"cache/PCA23.csv\\\\\")\\\\n\\\\n# Filter for Prodcom Sales 2023\\\\ndf_prodcom_sales = df[df[\\\\\"Statistic\\\\\"] == \\\\\"Prodcom Sales 2023\\\\\"]\\\\n\\\\n# Filter for cosmetics, toiletries and related items\\\\ncosmetics_toiletries_df = df_prodcom_sales[df_prodcom_sales[\\\\\"Product\\\\\"].str.contains(\\\\\"cosmetic|toilet|perfume|soap|shampoo|dentifrice|make-up|fragrance\\\\\", case=False, na=False)]\\\\n\\\\n# Replace -99999999.0 with NaN and sum the values\\\\ncosmetics_toiletries_df = cosmetics_toiletries_df.replace(-99999999.0, pd.NA)\\\\ntotal_production_value = cosmetics_toiletries_df[\\\\\"value\\\\\"].sum()\\\\n\\\\nprint(f\\\\\"Total production value for cosmetics, toiletries and related items: {total_production_value}\\\\\")\\\\n\", \"description\": \"Calculate the total production value for cosmetics, toiletries, and related items in Prodcom Sales 2023 data.\"}'}},\n",
       " 'response_metadata': {'prompt_feedback': {'block_reason': 0,\n",
       "   'safety_ratings': []},\n",
       "  'finish_reason': 'STOP',\n",
       "  'model_name': 'gemini-2.5-flash',\n",
       "  'safety_ratings': []},\n",
       " 'type': 'ai',\n",
       " 'name': None,\n",
       " 'id': 'run--e703269a-497e-4a27-8395-77a82b8188e9-0',\n",
       " 'example': False,\n",
       " 'tool_calls': [{'name': 'python_code_executor',\n",
       "   'args': {'code': '\\nimport pandas as pd\\n\\ndf = pd.read_csv(\"cache/PCA23.csv\")\\n\\n# Filter for Prodcom Sales 2023\\ndf_prodcom_sales = df[df[\"Statistic\"] == \"Prodcom Sales 2023\"]\\n\\n# Filter for cosmetics, toiletries and related items\\ncosmetics_toiletries_df = df_prodcom_sales[df_prodcom_sales[\"Product\"].str.contains(\"cosmetic|toilet|perfume|soap|shampoo|dentifrice|make-up|fragrance\", case=False, na=False)]\\n\\n# Replace -99999999.0 with NaN and sum the values\\ncosmetics_toiletries_df = cosmetics_toiletries_df.replace(-99999999.0, pd.NA)\\ntotal_production_value = cosmetics_toiletries_df[\"value\"].sum()\\n\\nprint(f\"Total production value for cosmetics, toiletries and related items: {total_production_value}\")\\n',\n",
       "    'description': 'Calculate the total production value for cosmetics, toiletries, and related items in Prodcom Sales 2023 data.'},\n",
       "   'id': '31e0220b-cf6a-454b-9e43-3b0d5cb59848',\n",
       "   'type': 'tool_call'}],\n",
       " 'invalid_tool_calls': [],\n",
       " 'usage_metadata': {'input_tokens': 966,\n",
       "  'output_tokens': 529,\n",
       "  'total_tokens': 1495,\n",
       "  'input_token_details': {'cache_read': 0},\n",
       "  'output_token_details': {'reasoning': 236}}}"
      ]
     },
     "execution_count": 16,
     "metadata": {},
     "output_type": "execute_result"
    }
   ],
   "source": [
    "res[\"scratchpad\"][0].model_dump()"
   ]
  },
  {
   "cell_type": "code",
   "execution_count": 22,
   "id": "98086646",
   "metadata": {},
   "outputs": [
    {
     "data": {
      "text/plain": [
       "{'content': 'Total production value for cosmetics, toiletries and related items: 20519.0\\n',\n",
       " 'additional_kwargs': {},\n",
       " 'response_metadata': {},\n",
       " 'type': 'tool',\n",
       " 'name': 'python_code_executor',\n",
       " 'id': '931a6db0-3a81-4f5a-871a-d844c51b0894',\n",
       " 'tool_call_id': '31e0220b-cf6a-454b-9e43-3b0d5cb59848',\n",
       " 'artifact': None,\n",
       " 'status': 'success'}"
      ]
     },
     "execution_count": 22,
     "metadata": {},
     "output_type": "execute_result"
    }
   ],
   "source": [
    "res[\"scratchpad\"][1].model_dump()"
   ]
  },
  {
   "cell_type": "code",
   "execution_count": 20,
   "id": "235b3089",
   "metadata": {},
   "outputs": [],
   "source": [
    "from langchain_core.messages import AIMessage\n",
    "\n",
    "# Example: create a tool-call for your tool\n",
    "tool_call = {\n",
    "    \"name\": \"python_code_executor\",\n",
    "    \"args\": {\n",
    "        \"code\": \"print('Hello, world!')\",\n",
    "        \"description\": \"Print hello world\"\n",
    "    },\n",
    "    \"id\": \"my_tool_call_id_1\"  # unique ID for this call\n",
    "}\n",
    "\n",
    "# Create an AIMessage with tool_calls\n",
    "ai_msg = AIMessage(\n",
    "    content=\"I need to run some code to answer your question.\",\n",
    "    tool_calls=[tool_call]\n",
    ")"
   ]
  },
  {
   "cell_type": "code",
   "execution_count": 21,
   "id": "3637e5a3",
   "metadata": {},
   "outputs": [
    {
     "data": {
      "text/plain": [
       "{'content': 'I need to run some code to answer your question.',\n",
       " 'additional_kwargs': {},\n",
       " 'response_metadata': {},\n",
       " 'type': 'ai',\n",
       " 'name': None,\n",
       " 'id': None,\n",
       " 'example': False,\n",
       " 'tool_calls': [{'name': 'python_code_executor',\n",
       "   'args': {'code': \"print('Hello, world!')\",\n",
       "    'description': 'Print hello world'},\n",
       "   'id': 'my_tool_call_id_1',\n",
       "   'type': 'tool_call'}],\n",
       " 'invalid_tool_calls': [],\n",
       " 'usage_metadata': None}"
      ]
     },
     "execution_count": 21,
     "metadata": {},
     "output_type": "execute_result"
    }
   ],
   "source": [
    "ai_msg.model_dump()"
   ]
  },
  {
   "cell_type": "code",
   "execution_count": 25,
   "id": "2cc6b97a",
   "metadata": {},
   "outputs": [
    {
     "name": "stdout",
     "output_type": "stream",
     "text": [
      "Based on the information available:\n",
      "\n",
      "*   The total agricultural area in Ireland is **53,543.683 hectares** (Source: AQA06).\n",
      "*   Another source indicates the total agricultural area in Ireland is **416,415.0 hectares** (Source: AVA33).\n",
      "*   Furthermore, the total agricultural area in Ireland was **4,509,256.2 hectares in 2020** and **4,620,095.9 hectares in 2023** (Source: IFS10).\n",
      "\n",
      "There are discrepancies in the reported total agricultural area across different sources.\n"
     ]
    }
   ],
   "source": [
    "q = 'Based on the information available:\\n\\n*   The total agricultural area in Ireland is **53,543.683 hectares** (Source: AQA06).\\n*   Another source indicates the total agricultural area in Ireland is **416,415.0 hectares** (Source: AVA33).\\n*   Furthermore, the total agricultural area in Ireland was **4,509,256.2 hectares in 2020** and **4,620,095.9 hectares in 2023** (Source: IFS10).\\n\\nThere are discrepancies in the reported total agricultural area across different sources.'\n",
    "print(q)"
   ]
  },
  {
   "cell_type": "code",
   "execution_count": null,
   "id": "fb252c06",
   "metadata": {},
   "outputs": [],
   "source": []
  }
 ],
 "metadata": {
  "kernelspec": {
   "display_name": "python311",
   "language": "python",
   "name": "python3"
  },
  "language_info": {
   "codemirror_mode": {
    "name": "ipython",
    "version": 3
   },
   "file_extension": ".py",
   "mimetype": "text/x-python",
   "name": "python",
   "nbconvert_exporter": "python",
   "pygments_lexer": "ipython3",
   "version": "3.11.13"
  }
 },
 "nbformat": 4,
 "nbformat_minor": 5
}
